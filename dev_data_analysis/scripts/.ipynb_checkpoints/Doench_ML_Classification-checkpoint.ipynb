{
 "cells": [
  {
   "cell_type": "code",
   "execution_count": 25,
   "metadata": {},
   "outputs": [],
   "source": [
    "# Machine learning pipeline for Doench Data, supplementary table 7\n",
    "import pandas as pd\n",
    "\n",
    "supp_7_path = \"/Users/daveistanto/Dropbox/UIUCGraduateSchool/Researches/CROPSR_head_dir/data_files/supp_table_7.csv\"\n",
    "supp_7_df = pd.read_csv(supp_7_path)"
   ]
  },
  {
   "cell_type": "code",
   "execution_count": 26,
   "metadata": {},
   "outputs": [],
   "source": [
    "# Sort based on Gene % Rank, take top 20\n",
    "# import warnings\n",
    "# warnings.filterwarnings('ignore')\n",
    "\n",
    "# supp_7_df.sort_values(by=\"Gene % Rank\", ascending=False, inplace=True)\n",
    "# supp_7_df[\"Top 20%\"] = False\n",
    "# supp_7_df[\"Top 20%\"][0:int(len(supp_7_df)*0.5)] = True\n"
   ]
  },
  {
   "cell_type": "code",
   "execution_count": 27,
   "metadata": {},
   "outputs": [],
   "source": [
    "# # Sort based on Gene % Rank but group by Gene\n",
    "import warnings\n",
    "warnings.filterwarnings('ignore')\n",
    "unique_gene_list = list(set(supp_7_df[\"Gene\"]))\n",
    "\n",
    "supp_7_df[\"Top 20%\"] = False\n",
    "\n",
    "for gene in unique_gene_list:\n",
    "    supp_7_df_temp = supp_7_df[supp_7_df[\"Gene\"] == gene]\n",
    "    supp_7_df_temp[\"Top 20%\"][0:int(len(supp_7_df_temp)*0.2)] = True\n",
    "    supp_7_df[supp_7_df[\"Gene\"] == gene] = supp_7_df_temp\n",
    "    "
   ]
  },
  {
   "cell_type": "code",
   "execution_count": 28,
   "metadata": {},
   "outputs": [
    {
     "name": "stdout",
     "output_type": "stream",
     "text": [
      "Index(['Sequence', 'Expanded Sequence', 'Position', 'Type', 'Gene',\n",
      "       'Transcript', 'Strand', 'Gene % Rank', 'sgRNA Score', 'Top 20%'],\n",
      "      dtype='object')\n"
     ]
    }
   ],
   "source": [
    "# Extract features\n",
    "\n",
    "import Feature_Extraction as fe\n",
    "\n",
    "feat_vec = supp_7_df[\"Expanded Sequence\"].apply(fe.ext_sgRNA_feat)\n",
    "\n",
    "print(supp_7_df.columns)"
   ]
  },
  {
   "cell_type": "code",
   "execution_count": 29,
   "metadata": {
    "scrolled": false
   },
   "outputs": [
    {
     "name": "stdout",
     "output_type": "stream",
     "text": [
      "590\n"
     ]
    }
   ],
   "source": [
    "print(len(feat_vec[0]))"
   ]
  },
  {
   "cell_type": "code",
   "execution_count": 30,
   "metadata": {},
   "outputs": [],
   "source": [
    "# Split dataset to 80% Training 20% Test\n",
    "from sklearn.model_selection import train_test_split \n",
    "import numpy as np\n",
    "\n",
    "vec_train, vec_test, label_train, label_test = train_test_split(feat_vec.values, supp_7_df[\"Top 20%\"].values, test_size=0.2, random_state=0)\n",
    "# Convert nested np.array to 2d np.array\n",
    "vec_train = np.array(list(vec_train))\n",
    "vec_test = np.array(list(vec_test))"
   ]
  },
  {
   "cell_type": "code",
   "execution_count": 31,
   "metadata": {},
   "outputs": [
    {
     "data": {
      "text/plain": [
       "LinearSVC(C=1.0, class_weight=None, dual=False, fit_intercept=True,\n",
       "     intercept_scaling=1, loss='squared_hinge', max_iter=1000,\n",
       "     multi_class='ovr', penalty='l1', random_state=None, tol=0.0001,\n",
       "     verbose=0)"
      ]
     },
     "execution_count": 31,
     "metadata": {},
     "output_type": "execute_result"
    }
   ],
   "source": [
    "# Eliminate most features: SVM with L-1 regularization constant\n",
    "\n",
    "from sklearn.svm import LinearSVC\n",
    "\n",
    "SVM_clf = LinearSVC(penalty='l1', loss='squared_hinge', dual=False)\n",
    "SVM_clf.fit(vec_train, label_train)"
   ]
  },
  {
   "cell_type": "code",
   "execution_count": 32,
   "metadata": {},
   "outputs": [
    {
     "name": "stdout",
     "output_type": "stream",
     "text": [
      "SVM Training accuracy: 0.8165760869565217\n",
      "SVM Test accuracy: 0.6476964769647696\n"
     ]
    }
   ],
   "source": [
    "# SVM Accuracies\n",
    "\n",
    "from sklearn.metrics import accuracy_score\n",
    "\n",
    "pred_train_SVM = SVM_clf.predict(vec_train)\n",
    "pred_test_SVM = SVM_clf.predict(vec_test)\n",
    "\n",
    "print(\"SVM Training accuracy:\", accuracy_score(pred_train_SVM, label_train))\n",
    "print(\"SVM Test accuracy:\", accuracy_score(pred_test_SVM, label_test))"
   ]
  },
  {
   "cell_type": "code",
   "execution_count": 33,
   "metadata": {
    "scrolled": true
   },
   "outputs": [
    {
     "name": "stdout",
     "output_type": "stream",
     "text": [
      "SVM Positive score: [-0.5455341]\n",
      "SVM Negative score: [-0.67014285]\n",
      "305\n"
     ]
    }
   ],
   "source": [
    "# Diagnostics\n",
    "\n",
    "print(\"SVM Positive score:\", SVM_clf.intercept_ + np.dot(SVM_clf.coef_, (vec_train[label_train == True][0])))\n",
    "print(\"SVM Negative score:\", SVM_clf.intercept_ + np.dot(SVM_clf.coef_, (vec_train[label_train != True][0])))\n",
    "\n",
    "print(len(set(SVM_clf.coef_[0])))"
   ]
  },
  {
   "cell_type": "code",
   "execution_count": 34,
   "metadata": {},
   "outputs": [],
   "source": [
    "# Function for filtering, make vectorized version\n",
    "\n",
    "def filter_vec(input_vec, filter_bool):\n",
    "    return input_vec[filter_bool[0]]"
   ]
  },
  {
   "cell_type": "code",
   "execution_count": 35,
   "metadata": {},
   "outputs": [],
   "source": [
    "# Filter for non-0 weights, and only use corresponding features\n",
    "\n",
    "non_0_filter = (SVM_clf.coef_ != 0)\n",
    "non_0_weights = SVM_clf.coef_[non_0_filter]\n",
    "filtered_vec_train = np.apply_along_axis(filter_vec, 1, vec_train, non_0_filter)\n",
    "filtered_vec_test = np.apply_along_axis(filter_vec, 1, vec_test, non_0_filter)"
   ]
  },
  {
   "cell_type": "code",
   "execution_count": 36,
   "metadata": {},
   "outputs": [
    {
     "data": {
      "text/plain": [
       "LogisticRegression(C=1.0, class_weight=None, dual=False, fit_intercept=True,\n",
       "          intercept_scaling=1, max_iter=100, multi_class='warn',\n",
       "          n_jobs=None, penalty='l2', random_state=None, solver='warn',\n",
       "          tol=0.0001, verbose=0, warm_start=False)"
      ]
     },
     "execution_count": 36,
     "metadata": {},
     "output_type": "execute_result"
    }
   ],
   "source": [
    "# Logistic Regression using filtered weights\n",
    "\n",
    "from sklearn.linear_model import LogisticRegression\n",
    "LR_clf = LogisticRegression()\n",
    "LR_clf.fit(filtered_vec_train, label_train)"
   ]
  },
  {
   "cell_type": "code",
   "execution_count": 37,
   "metadata": {},
   "outputs": [
    {
     "name": "stdout",
     "output_type": "stream",
     "text": [
      "LR Training accuracy: 0.8165760869565217\n",
      "LR Test accuracy: 0.6558265582655827\n"
     ]
    }
   ],
   "source": [
    "# Logistic Regression Accuracies\n",
    "\n",
    "pred_train_LR = LR_clf.predict(filtered_vec_train)\n",
    "pred_test_LR = LR_clf.predict(filtered_vec_test)\n",
    "\n",
    "print(\"LR Training accuracy:\", accuracy_score(pred_train_LR, label_train))\n",
    "print(\"LR Test accuracy:\", accuracy_score(pred_test_LR, label_test))"
   ]
  },
  {
   "cell_type": "code",
   "execution_count": 38,
   "metadata": {},
   "outputs": [
    {
     "name": "stdout",
     "output_type": "stream",
     "text": [
      "training set counts {False: 926, True: 546}\n",
      "test set counts {False: 220, True: 149}\n",
      "training set frequency {False: 0.6290760869565217, True: 0.37092391304347827}\n",
      "test set frequency {False: 0.5962059620596206, True: 0.4037940379403794}\n"
     ]
    }
   ],
   "source": [
    "#DISTRIBUTIONS\n",
    "train_unique, train_counts = np.unique(pred_train_LR, return_counts=True)\n",
    "test_unique, test_counts = np.unique(pred_test_LR, return_counts=True)\n",
    "print(\"training set counts\", dict(zip(train_unique, train_counts)))\n",
    "print(\"test set counts\", dict(zip(test_unique, test_counts)))\n",
    "\n",
    "print(\"training set frequency\", dict(zip(train_unique, train_counts/(train_counts[0]+ train_counts[1]))))\n",
    "print(\"test set frequency\", dict(zip(test_unique, test_counts/(test_counts[0]+ test_counts[1]))))\n"
   ]
  },
  {
   "cell_type": "code",
   "execution_count": 39,
   "metadata": {},
   "outputs": [],
   "source": [
    "# Function to get scores of each input vector\n",
    "import math\n",
    "\n",
    "def get_sgRNA_scores(input_vector, incpt, weights):\n",
    "    raw_score = incpt + np.dot(input_vector, weights)\n",
    "    prob_top_20 = 1 / (1 + (math.e)**(-1 * raw_score))\n",
    "    \n",
    "    return prob_top_20\n"
   ]
  },
  {
   "cell_type": "code",
   "execution_count": 40,
   "metadata": {},
   "outputs": [],
   "source": [
    "# Get scores of each feature\n",
    "\n",
    "feat_vec = np.array(list(feat_vec))\n",
    "filtered_feat_vec = np.apply_along_axis(filter_vec, 1, feat_vec, non_0_filter)\n",
    "supp_7_df[\"exp_score\"] = np.apply_along_axis(get_sgRNA_scores, 1, filtered_feat_vec, LR_clf.intercept_, LR_clf.coef_[0])"
   ]
  },
  {
   "cell_type": "code",
   "execution_count": 41,
   "metadata": {
    "scrolled": false
   },
   "outputs": [],
   "source": [
    "# Sort df by exp score\n",
    "\n",
    "Doench_rank = supp_7_df.sort_values(by=\"Gene % Rank\", ascending=False, inplace=False)\n",
    "CROPSR_rank = supp_7_df.sort_values(by=\"exp_score\", ascending=False, inplace=False)\n",
    "\n",
    "#Doench_rank.to_csv(\"/Users/daveistanto/Dropbox/UIUCGraduateSchool/Researches/CROPSR/data_files/doench_ranked.csv\", index=False)\n",
    "#CROPSR_rank.to_csv(\"/Users/daveistanto/Dropbox/UIUCGraduateSchool/Researches/CROPSR/data_files/CROPSR_ranked.csv\", index=False)"
   ]
  },
  {
   "cell_type": "code",
   "execution_count": 42,
   "metadata": {},
   "outputs": [
    {
     "name": "stdout",
     "output_type": "stream",
     "text": [
      "Correlation coefficient:  0.4724535626309528\n",
      "Correlation coefficient:  0.6131147148990861\n"
     ]
    },
    {
     "data": {
      "image/png": "[encoded data removed]",
      "text/plain": [
       "<Figure size 432x288 with 1 Axes>"
      ]
     },
     "metadata": {
      "needs_background": "light"
     },
     "output_type": "display_data"
    },
    {
     "data": {
      "image/png": "[encoded data removed]",
      "text/plain": [
       "<Figure size 432x288 with 1 Axes>"
      ]
     },
     "metadata": {
      "needs_background": "light"
     },
     "output_type": "display_data"
    }
   ],
   "source": [
    "# Scatter plot sgRNA vs Doench Gene rank\n",
    "\n",
    "import matplotlib.pyplot as plt\n",
    "from scipy.stats.stats import pearsonr\n",
    "\n",
    "plt.figure(1)\n",
    "plt.scatter(Doench_rank[\"Gene % Rank\"].values, Doench_rank[\"sgRNA Score\"].values)\n",
    "plt.ylabel(\"Doench sgRNA Score \")\n",
    "plt.xlabel(\"Gene % Rank\")\n",
    "plt.title(\"Gene % Rank vs Doench sgRNA Score\")\n",
    "\n",
    "print(\"Correlation coefficient: \", pearsonr(Doench_rank[\"Gene % Rank\"].values, Doench_rank[\"sgRNA Score\"].values)[0])\n",
    "\n",
    "plt.figure(2)\n",
    "plt.scatter(CROPSR_rank[\"Gene % Rank\"].values, CROPSR_rank[\"exp_score\"].values)\n",
    "plt.ylabel(\"CROPSR sgRNA Score \")\n",
    "plt.xlabel(\"Gene % Rank\")\n",
    "plt.title(\"Gene % Rank vs CROPSR sgRNA Score\")\n",
    "\n",
    "print(\"Correlation coefficient: \", pearsonr(CROPSR_rank[\"Gene % Rank\"].values, CROPSR_rank[\"exp_score\"].values)[0])"
   ]
  },
  {
   "cell_type": "code",
   "execution_count": 43,
   "metadata": {},
   "outputs": [
    {
     "data": {
      "text/plain": [
       "LogisticRegression(C=1.0, class_weight=None, dual=False, fit_intercept=True,\n",
       "          intercept_scaling=1, max_iter=100, multi_class='warn',\n",
       "          n_jobs=None, penalty='l2', random_state=None, solver='warn',\n",
       "          tol=0.0001, verbose=0, warm_start=False)"
      ]
     },
     "execution_count": 43,
     "metadata": {},
     "output_type": "execute_result"
    }
   ],
   "source": [
    "# Logistic Regression only\n",
    "\n",
    "from sklearn.linear_model import LogisticRegression\n",
    "LR_only_clf = LogisticRegression()\n",
    "LR_only_clf.fit(vec_train, label_train)"
   ]
  },
  {
   "cell_type": "code",
   "execution_count": 44,
   "metadata": {
    "scrolled": true
   },
   "outputs": [
    {
     "name": "stdout",
     "output_type": "stream",
     "text": [
      "LR Only Training accuracy: 0.8186141304347826\n",
      "LR Only Test accuracy: 0.6639566395663956\n"
     ]
    }
   ],
   "source": [
    "# Logistic Regression only Accuracies\n",
    "\n",
    "from sklearn.metrics import accuracy_score\n",
    "\n",
    "pred_train_only_LR = LR_only_clf.predict(vec_train)\n",
    "pred_test_only_LR = LR_only_clf.predict(vec_test)\n",
    "\n",
    "print(\"LR Only Training accuracy:\", accuracy_score(pred_train_only_LR, label_train))\n",
    "print(\"LR Only Test accuracy:\", accuracy_score(pred_test_only_LR, label_test))"
   ]
  },
  {
   "cell_type": "code",
   "execution_count": 92,
   "metadata": {},
   "outputs": [],
   "source": [
    "# Linear neural network Classifier, ranked\n",
    "\n",
    "import torch\n",
    "from torch import nn\n",
    "\n",
    "p_threshold = 0.5\n",
    "class nnClassifier(nn.Module):\n",
    "    def __init__(self):\n",
    "        super(nnClassifier, self).__init__()\n",
    "        \n",
    "        self.lin_1 = nn.Linear(590, 300)\n",
    "        self.lin_2 = nn.Linear(300, 100)\n",
    "        self.lin_3 = nn.Linear(100, 10)\n",
    "        self.lin_4 = nn.Linear(10, 1)\n",
    "        \n",
    "        self.seq = nn.Sequential(\n",
    "            self.lin_1,\n",
    "            nn.ReLU(),\n",
    "            self.lin_2,\n",
    "            nn.ReLU(),\n",
    "            self.lin_3,\n",
    "            nn.ReLU(),\n",
    "            self.lin_4,\n",
    "            nn.Sigmoid()\n",
    "        )\n",
    "\n",
    "    def forward(self, x):\n",
    "        prob = self.seq(x.type(torch.FloatTensor))\n",
    "        label_tensor = prob > p_threshold\n",
    "     \n",
    "        return prob, label_tensor.type(torch.FloatTensor)\n",
    "        \n"
   ]
  },
  {
   "cell_type": "code",
   "execution_count": 93,
   "metadata": {},
   "outputs": [],
   "source": [
    "from torch.utils.data import Dataset, DataLoader\n",
    "# Data loaders, training and test loader\n",
    "\n",
    "class mouse_dataset(Dataset):\n",
    "    \n",
    "    # Initialize data\n",
    "    def __init__(self, input_x, input_y):\n",
    "        self.len = len(input_x)\n",
    "        self.x_data = torch.from_numpy(input_x)\n",
    "        self.y_data = torch.from_numpy(input_y)\n",
    "        \n",
    "    def __getitem__(self, index):\n",
    "        return self.x_data[index], self.y_data[index]\n",
    "    \n",
    "    def __len__(self):\n",
    "        return self.len\n",
    "    \n",
    "mouse_train_dataset = mouse_dataset(vec_train, label_train.astype(int))\n",
    "mouse_test_dataset = mouse_dataset(vec_test, label_test.astype(int))\n",
    "\n",
    "# mouse_train_filtered_dataset = mouse_dataset()\n"
   ]
  },
  {
   "cell_type": "code",
   "execution_count": 98,
   "metadata": {},
   "outputs": [],
   "source": [
    "# Code for training test nn\n",
    "\n",
    "import torch\n",
    "import torch.nn.functional as F\n",
    "\n",
    "def train_test_nn(model, train_loader, test_loader, loss_func, opt, loss_func_2=None, epochs=10, writer=None):\n",
    "    \n",
    "#     Divide training data to batches:\n",
    "    \n",
    "\n",
    "    for epoch_index in range(epochs):\n",
    "        \n",
    "        # Train nn \n",
    "        train_epoch_total_loss = 0\n",
    "        train_epoch_total_acc = 0\n",
    "        train_total_batches = 0\n",
    "        \n",
    "        for i, data in enumerate(train_loader, 0):\n",
    "            \n",
    "            # Load data and forward\n",
    "            train_input, train_labels = data         \n",
    "            prob_good, train_pred_labels = model(train_input)\n",
    "            print(train_pred_labels.size())\n",
    "            print(train_labels.size())\n",
    "#             print(train_pred_labels)\n",
    "            # Loss, back propagation\n",
    "            train_batch_loss = loss_func(train_pred_labels, train_labels)\n",
    "            \n",
    "\n",
    "            \n",
    "#             max_vals, max_indices = torch.max(train_pred_labels, 1)\n",
    "#             train_batch_L1_loss = loss_func_2(max_indices.type(torch.FloatTensor), train_labels.type(torch.FloatTensor))        \n",
    "#             train_batch_loss = train_batch_CE_loss + train_batch_L1_loss       \n",
    "            opt.zero_grad()\n",
    "            train_batch_loss.backward()\n",
    "            opt.step()\n",
    "            \n",
    "            # Metrics\n",
    "            train_epoch_total_loss += train_batch_loss.item()\n",
    "            train_epoch_total_acc += get_accuracy(train_pred_labels, train_labels)\n",
    "            train_total_batches += 1\n",
    "                \n",
    "\n",
    "        # Test nn\n",
    "        test_epoch_total_loss = 0\n",
    "        test_epoch_total_acc = 0\n",
    "        test_total_batches = 0\n",
    "\n",
    "        for i, data in enumerate(test_loader, 0):\n",
    "\n",
    "            # Load data, forward\n",
    "            test_input, test_labels = data\n",
    "            test_pred_labels = model(test_input)\n",
    "            \n",
    "            # Loss\n",
    "            test_batch_loss = loss_func(test_pred_labels, test_labels)\n",
    "            max_vals, max_indices = torch.max(test_pred_labels, 1) \n",
    "#             test_batch_L1_loss = loss_func_2(max_indices.type(torch.FloatTensor), test_label.type(torch.FloatTensor))\n",
    "#             test_batch_loss = test_batch_CE_loss + test_batch_L1_loss\n",
    "            \n",
    "            # Metrics\n",
    "            test_epoch_total_loss += test_batch_loss.item()\n",
    "            test_epoch_total_acc += get_accuracy(test_pred_labels, test_labels)\n",
    "            test_total_batches += 1\n",
    "\n",
    "            \n",
    "#         print(\"Epoch\", epoch_index, \"Loss:\", epoch_total_loss / total_batches)\n",
    "        if epoch_index % 50 == 0 or epoch_index == epochs - 1:\n",
    "            print(\"Epoch\", epoch_index, \"Training Accuracy:\", train_epoch_total_acc / train_total_batches)\n",
    "            print(\"Epoch\", epoch_index, \"Training Loss:\", train_epoch_total_loss / train_total_batches)\n",
    "            print(\"Epoch\", epoch_index, \"Test Accuracy:\", test_epoch_total_acc / test_total_batches)\n",
    "            print(\"Epoch\", epoch_index, \"Test Loss:\", test_epoch_total_loss / test_total_batches)\n",
    "            # Get epoch average batch loss and accuracy\n",
    "        writer.add_scalar(\"Epoch Training Batch Loss Average:\", train_epoch_total_loss / train_total_batches, epoch_index)\n",
    "        writer.add_scalar(\"Epoch Training Batch Accuracy Average:\", train_epoch_total_acc / train_total_batches, epoch_index)\n",
    "        writer.add_scalar(\"Epoch Test Batch Loss Average:\", test_epoch_total_loss / test_total_batches, epoch_index)\n",
    "        writer.add_scalar(\"Epoch Test Batch Accuracy Average:\", test_epoch_total_acc / test_total_batches, epoch_index)     \n",
    "         \n",
    "    pass\n",
    "            \n",
    "    \n",
    "# Helper function\n",
    "def get_accuracy(model_output_tensor, actual_value_tensor):\n",
    "    # Get the node / torch with largest value, multiple tensors at once,\n",
    "    # torch.max returns (max_value, index_of_max_value)\n",
    "    max_val_indices = torch.max(model_output_tensor, dim = 1)[1]\n",
    "    \n",
    "    # Get the number of rights, item() is to extract scalar from 1D tensor with 1 Element\n",
    "    right_count = torch.sum(torch.eq(max_val_indices, actual_value_tensor)).item()\n",
    "    \n",
    "    # Get accuracy by dividing by length of each tensor\n",
    "    batch_size = max_val_indices.size()[0]\n",
    "    acc = right_count / batch_size\n",
    "    return acc"
   ]
  },
  {
   "cell_type": "code",
   "execution_count": 100,
   "metadata": {
    "scrolled": true
   },
   "outputs": [
    {
     "name": "stdout",
     "output_type": "stream",
     "text": [
      "torch.Size([32, 1])\n",
      "torch.Size([32])\n"
     ]
    },
    {
     "ename": "RuntimeError",
     "evalue": "Assertion `cur_target >= 0 && cur_target < n_classes' failed.  at /Users/soumith/b101_2/2019_02_08/wheel_build_dirs/wheel_3.7/pytorch/aten/src/THNN/generic/ClassNLLCriterion.c:93",
     "output_type": "error",
     "traceback": [
      "\u001b[0;31m---------------------------------------------------------------------------\u001b[0m",
      "\u001b[0;31mRuntimeError\u001b[0m                              Traceback (most recent call last)",
      "\u001b[0;32m<ipython-input-100-b2c34ba45948>\u001b[0m in \u001b[0;36m<module>\u001b[0;34m\u001b[0m\n\u001b[1;32m     12\u001b[0m \u001b[0;34m\u001b[0m\u001b[0m\n\u001b[1;32m     13\u001b[0m \u001b[0;34m\u001b[0m\u001b[0m\n\u001b[0;32m---> 14\u001b[0;31m \u001b[0mtrain_test_nn\u001b[0m\u001b[0;34m(\u001b[0m\u001b[0mmodel\u001b[0m\u001b[0;34m,\u001b[0m \u001b[0mmouse_train_loader\u001b[0m\u001b[0;34m,\u001b[0m \u001b[0mmouse_test_loader\u001b[0m\u001b[0;34m,\u001b[0m \u001b[0mloss_1\u001b[0m\u001b[0;34m,\u001b[0m \u001b[0moptimizer\u001b[0m\u001b[0;34m,\u001b[0m \u001b[0mloss_func_2\u001b[0m\u001b[0;34m=\u001b[0m\u001b[0mloss_2\u001b[0m\u001b[0;34m,\u001b[0m \u001b[0mepochs\u001b[0m\u001b[0;34m=\u001b[0m\u001b[0;36m850\u001b[0m\u001b[0;34m,\u001b[0m \u001b[0mwriter\u001b[0m\u001b[0;34m=\u001b[0m\u001b[0mwriter\u001b[0m\u001b[0;34m)\u001b[0m\u001b[0;34m\u001b[0m\u001b[0m\n\u001b[0m",
      "\u001b[0;32m<ipython-input-98-66cb51acae03>\u001b[0m in \u001b[0;36mtrain_test_nn\u001b[0;34m(model, train_loader, test_loader, loss_func, opt, loss_func_2, epochs, writer)\u001b[0m\n\u001b[1;32m     25\u001b[0m \u001b[0;31m#             print(train_pred_labels)\u001b[0m\u001b[0;34m\u001b[0m\u001b[0;34m\u001b[0m\u001b[0m\n\u001b[1;32m     26\u001b[0m             \u001b[0;31m# Loss, back propagation\u001b[0m\u001b[0;34m\u001b[0m\u001b[0;34m\u001b[0m\u001b[0m\n\u001b[0;32m---> 27\u001b[0;31m             \u001b[0mtrain_batch_loss\u001b[0m \u001b[0;34m=\u001b[0m \u001b[0mloss_func\u001b[0m\u001b[0;34m(\u001b[0m\u001b[0mtrain_pred_labels\u001b[0m\u001b[0;34m,\u001b[0m \u001b[0mtrain_labels\u001b[0m\u001b[0;34m)\u001b[0m\u001b[0;34m\u001b[0m\u001b[0m\n\u001b[0m\u001b[1;32m     28\u001b[0m \u001b[0;34m\u001b[0m\u001b[0m\n\u001b[1;32m     29\u001b[0m \u001b[0;34m\u001b[0m\u001b[0m\n",
      "\u001b[0;32m/usr/local/lib/python3.7/site-packages/torch/nn/modules/module.py\u001b[0m in \u001b[0;36m__call__\u001b[0;34m(self, *input, **kwargs)\u001b[0m\n\u001b[1;32m    487\u001b[0m             \u001b[0mresult\u001b[0m \u001b[0;34m=\u001b[0m \u001b[0mself\u001b[0m\u001b[0;34m.\u001b[0m\u001b[0m_slow_forward\u001b[0m\u001b[0;34m(\u001b[0m\u001b[0;34m*\u001b[0m\u001b[0minput\u001b[0m\u001b[0;34m,\u001b[0m \u001b[0;34m**\u001b[0m\u001b[0mkwargs\u001b[0m\u001b[0;34m)\u001b[0m\u001b[0;34m\u001b[0m\u001b[0m\n\u001b[1;32m    488\u001b[0m         \u001b[0;32melse\u001b[0m\u001b[0;34m:\u001b[0m\u001b[0;34m\u001b[0m\u001b[0m\n\u001b[0;32m--> 489\u001b[0;31m             \u001b[0mresult\u001b[0m \u001b[0;34m=\u001b[0m \u001b[0mself\u001b[0m\u001b[0;34m.\u001b[0m\u001b[0mforward\u001b[0m\u001b[0;34m(\u001b[0m\u001b[0;34m*\u001b[0m\u001b[0minput\u001b[0m\u001b[0;34m,\u001b[0m \u001b[0;34m**\u001b[0m\u001b[0mkwargs\u001b[0m\u001b[0;34m)\u001b[0m\u001b[0;34m\u001b[0m\u001b[0m\n\u001b[0m\u001b[1;32m    490\u001b[0m         \u001b[0;32mfor\u001b[0m \u001b[0mhook\u001b[0m \u001b[0;32min\u001b[0m \u001b[0mself\u001b[0m\u001b[0;34m.\u001b[0m\u001b[0m_forward_hooks\u001b[0m\u001b[0;34m.\u001b[0m\u001b[0mvalues\u001b[0m\u001b[0;34m(\u001b[0m\u001b[0;34m)\u001b[0m\u001b[0;34m:\u001b[0m\u001b[0;34m\u001b[0m\u001b[0m\n\u001b[1;32m    491\u001b[0m             \u001b[0mhook_result\u001b[0m \u001b[0;34m=\u001b[0m \u001b[0mhook\u001b[0m\u001b[0;34m(\u001b[0m\u001b[0mself\u001b[0m\u001b[0;34m,\u001b[0m \u001b[0minput\u001b[0m\u001b[0;34m,\u001b[0m \u001b[0mresult\u001b[0m\u001b[0;34m)\u001b[0m\u001b[0;34m\u001b[0m\u001b[0m\n",
      "\u001b[0;32m/usr/local/lib/python3.7/site-packages/torch/nn/modules/loss.py\u001b[0m in \u001b[0;36mforward\u001b[0;34m(self, input, target)\u001b[0m\n\u001b[1;32m    902\u001b[0m     \u001b[0;32mdef\u001b[0m \u001b[0mforward\u001b[0m\u001b[0;34m(\u001b[0m\u001b[0mself\u001b[0m\u001b[0;34m,\u001b[0m \u001b[0minput\u001b[0m\u001b[0;34m,\u001b[0m \u001b[0mtarget\u001b[0m\u001b[0;34m)\u001b[0m\u001b[0;34m:\u001b[0m\u001b[0;34m\u001b[0m\u001b[0m\n\u001b[1;32m    903\u001b[0m         return F.cross_entropy(input, target, weight=self.weight,\n\u001b[0;32m--> 904\u001b[0;31m                                ignore_index=self.ignore_index, reduction=self.reduction)\n\u001b[0m\u001b[1;32m    905\u001b[0m \u001b[0;34m\u001b[0m\u001b[0m\n\u001b[1;32m    906\u001b[0m \u001b[0;34m\u001b[0m\u001b[0m\n",
      "\u001b[0;32m/usr/local/lib/python3.7/site-packages/torch/nn/functional.py\u001b[0m in \u001b[0;36mcross_entropy\u001b[0;34m(input, target, weight, size_average, ignore_index, reduce, reduction)\u001b[0m\n\u001b[1;32m   1968\u001b[0m     \u001b[0;32mif\u001b[0m \u001b[0msize_average\u001b[0m \u001b[0;32mis\u001b[0m \u001b[0;32mnot\u001b[0m \u001b[0;32mNone\u001b[0m \u001b[0;32mor\u001b[0m \u001b[0mreduce\u001b[0m \u001b[0;32mis\u001b[0m \u001b[0;32mnot\u001b[0m \u001b[0;32mNone\u001b[0m\u001b[0;34m:\u001b[0m\u001b[0;34m\u001b[0m\u001b[0m\n\u001b[1;32m   1969\u001b[0m         \u001b[0mreduction\u001b[0m \u001b[0;34m=\u001b[0m \u001b[0m_Reduction\u001b[0m\u001b[0;34m.\u001b[0m\u001b[0mlegacy_get_string\u001b[0m\u001b[0;34m(\u001b[0m\u001b[0msize_average\u001b[0m\u001b[0;34m,\u001b[0m \u001b[0mreduce\u001b[0m\u001b[0;34m)\u001b[0m\u001b[0;34m\u001b[0m\u001b[0m\n\u001b[0;32m-> 1970\u001b[0;31m     \u001b[0;32mreturn\u001b[0m \u001b[0mnll_loss\u001b[0m\u001b[0;34m(\u001b[0m\u001b[0mlog_softmax\u001b[0m\u001b[0;34m(\u001b[0m\u001b[0minput\u001b[0m\u001b[0;34m,\u001b[0m \u001b[0;36m1\u001b[0m\u001b[0;34m)\u001b[0m\u001b[0;34m,\u001b[0m \u001b[0mtarget\u001b[0m\u001b[0;34m,\u001b[0m \u001b[0mweight\u001b[0m\u001b[0;34m,\u001b[0m \u001b[0;32mNone\u001b[0m\u001b[0;34m,\u001b[0m \u001b[0mignore_index\u001b[0m\u001b[0;34m,\u001b[0m \u001b[0;32mNone\u001b[0m\u001b[0;34m,\u001b[0m \u001b[0mreduction\u001b[0m\u001b[0;34m)\u001b[0m\u001b[0;34m\u001b[0m\u001b[0m\n\u001b[0m\u001b[1;32m   1971\u001b[0m \u001b[0;34m\u001b[0m\u001b[0m\n\u001b[1;32m   1972\u001b[0m \u001b[0;34m\u001b[0m\u001b[0m\n",
      "\u001b[0;32m/usr/local/lib/python3.7/site-packages/torch/nn/functional.py\u001b[0m in \u001b[0;36mnll_loss\u001b[0;34m(input, target, weight, size_average, ignore_index, reduce, reduction)\u001b[0m\n\u001b[1;32m   1788\u001b[0m                          .format(input.size(0), target.size(0)))\n\u001b[1;32m   1789\u001b[0m     \u001b[0;32mif\u001b[0m \u001b[0mdim\u001b[0m \u001b[0;34m==\u001b[0m \u001b[0;36m2\u001b[0m\u001b[0;34m:\u001b[0m\u001b[0;34m\u001b[0m\u001b[0m\n\u001b[0;32m-> 1790\u001b[0;31m         \u001b[0mret\u001b[0m \u001b[0;34m=\u001b[0m \u001b[0mtorch\u001b[0m\u001b[0;34m.\u001b[0m\u001b[0m_C\u001b[0m\u001b[0;34m.\u001b[0m\u001b[0m_nn\u001b[0m\u001b[0;34m.\u001b[0m\u001b[0mnll_loss\u001b[0m\u001b[0;34m(\u001b[0m\u001b[0minput\u001b[0m\u001b[0;34m,\u001b[0m \u001b[0mtarget\u001b[0m\u001b[0;34m,\u001b[0m \u001b[0mweight\u001b[0m\u001b[0;34m,\u001b[0m \u001b[0m_Reduction\u001b[0m\u001b[0;34m.\u001b[0m\u001b[0mget_enum\u001b[0m\u001b[0;34m(\u001b[0m\u001b[0mreduction\u001b[0m\u001b[0;34m)\u001b[0m\u001b[0;34m,\u001b[0m \u001b[0mignore_index\u001b[0m\u001b[0;34m)\u001b[0m\u001b[0;34m\u001b[0m\u001b[0m\n\u001b[0m\u001b[1;32m   1791\u001b[0m     \u001b[0;32melif\u001b[0m \u001b[0mdim\u001b[0m \u001b[0;34m==\u001b[0m \u001b[0;36m4\u001b[0m\u001b[0;34m:\u001b[0m\u001b[0;34m\u001b[0m\u001b[0m\n\u001b[1;32m   1792\u001b[0m         \u001b[0mret\u001b[0m \u001b[0;34m=\u001b[0m \u001b[0mtorch\u001b[0m\u001b[0;34m.\u001b[0m\u001b[0m_C\u001b[0m\u001b[0;34m.\u001b[0m\u001b[0m_nn\u001b[0m\u001b[0;34m.\u001b[0m\u001b[0mnll_loss2d\u001b[0m\u001b[0;34m(\u001b[0m\u001b[0minput\u001b[0m\u001b[0;34m,\u001b[0m \u001b[0mtarget\u001b[0m\u001b[0;34m,\u001b[0m \u001b[0mweight\u001b[0m\u001b[0;34m,\u001b[0m \u001b[0m_Reduction\u001b[0m\u001b[0;34m.\u001b[0m\u001b[0mget_enum\u001b[0m\u001b[0;34m(\u001b[0m\u001b[0mreduction\u001b[0m\u001b[0;34m)\u001b[0m\u001b[0;34m,\u001b[0m \u001b[0mignore_index\u001b[0m\u001b[0;34m)\u001b[0m\u001b[0;34m\u001b[0m\u001b[0m\n",
      "\u001b[0;31mRuntimeError\u001b[0m: Assertion `cur_target >= 0 && cur_target < n_classes' failed.  at /Users/soumith/b101_2/2019_02_08/wheel_build_dirs/wheel_3.7/pytorch/aten/src/THNN/generic/ClassNLLCriterion.c:93"
     ]
    }
   ],
   "source": [
    "# Train model\n",
    "from torch import optim\n",
    "from tensorboardX import SummaryWriter\n",
    "\n",
    "model = nnClassifier()\n",
    "mouse_train_loader = DataLoader(dataset=mouse_train_dataset, batch_size = 32, shuffle = True, num_workers = 2)\n",
    "mouse_test_loader = DataLoader(dataset=mouse_test_dataset, batch_size = 32, shuffle = True, num_workers = 2)\n",
    "loss_1 = nn.CrossEntropyLoss()\n",
    "loss_2 = nn.L1Loss()\n",
    "optimizer = optim.SGD(model.parameters(), lr = 0.001, weight_decay=0.0001)\n",
    "writer = SummaryWriter()\n",
    "\n",
    "\n",
    "train_test_nn(model, mouse_train_loader, mouse_test_loader, loss_1, optimizer, loss_func_2=loss_2, epochs=850, writer=writer)"
   ]
  },
  {
   "cell_type": "code",
   "execution_count": 101,
   "metadata": {},
   "outputs": [
    {
     "data": {
      "text/plain": [
       "<module 'torch' from '/usr/local/lib/python3.7/site-packages/torch/__init__.py'>"
      ]
     },
     "execution_count": 101,
     "metadata": {},
     "output_type": "execute_result"
    }
   ],
   "source": [
    "import torch\n",
    "\n",
    "torch"
   ]
  },
  {
   "cell_type": "code",
   "execution_count": null,
   "metadata": {},
   "outputs": [],
   "source": []
  }
 ],
 "metadata": {
  "kernelspec": {
   "display_name": "Python 3",
   "language": "python",
   "name": "python3"
  },
  "language_info": {
   "codemirror_mode": {
    "name": "ipython",
    "version": 3
   },
   "file_extension": ".py",
   "mimetype": "text/x-python",
   "name": "python",
   "nbconvert_exporter": "python",
   "pygments_lexer": "ipython3",
   "version": "3.7.0"
  }
 },
 "nbformat": 4,
 "nbformat_minor": 2
}
