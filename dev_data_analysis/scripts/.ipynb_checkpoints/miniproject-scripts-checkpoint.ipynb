{
 "cells": [
  {
   "cell_type": "code",
   "execution_count": 70,
   "metadata": {},
   "outputs": [],
   "source": [
    "# Machine learning pipeline for Doench Data, supplementary table 7\n",
    "import pandas as pd\n",
    "\n",
    "supp_7_path = \"/Users/daveistanto/Dropbox/UIUCGraduateSchool/Researches/CROPSR_head_dir/data_files/supp_table_7.csv\"\n",
    "supp_7_df = pd.read_csv(supp_7_path)"
   ]
  },
  {
   "cell_type": "code",
   "execution_count": 71,
   "metadata": {},
   "outputs": [],
   "source": [
    "# Sort based on Gene % Rank, take top 20\n",
    "# import warnings\n",
    "# warnings.filterwarnings('ignore')\n",
    "\n",
    "# supp_7_df.sort_values(by=\"Gene % Rank\", ascending=False, inplace=True)\n",
    "# supp_7_df[\"Top 20%\"] = False\n",
    "# supp_7_df[\"Top 20%\"][0:int(len(supp_7_df)*0.5)] = True\n"
   ]
  },
  {
   "cell_type": "code",
   "execution_count": 72,
   "metadata": {},
   "outputs": [],
   "source": [
    "# # Sort based on Gene % Rank but group by Gene\n",
    "import warnings\n",
    "warnings.filterwarnings('ignore')\n",
    "unique_gene_list = list(set(supp_7_df[\"Gene\"]))\n",
    "\n",
    "supp_7_df[\"Top 20%\"] = False\n",
    "\n",
    "for gene in unique_gene_list:\n",
    "    supp_7_df_temp = supp_7_df[supp_7_df[\"Gene\"] == gene]\n",
    "    supp_7_df_temp[\"Top 20%\"][0:int(len(supp_7_df_temp)*0.2)] = True\n",
    "    supp_7_df[supp_7_df[\"Gene\"] == gene] = supp_7_df_temp\n",
    "    "
   ]
  },
  {
   "cell_type": "code",
   "execution_count": 73,
   "metadata": {},
   "outputs": [
    {
     "name": "stdout",
     "output_type": "stream",
     "text": [
      "Index(['Sequence', 'Expanded Sequence', 'Position', 'Type', 'Gene',\n",
      "       'Transcript', 'Strand', 'Gene % Rank', 'sgRNA Score', 'Top 20%'],\n",
      "      dtype='object')\n"
     ]
    }
   ],
   "source": [
    "# Extract features\n",
    "\n",
    "import Feature_Extraction as fe\n",
    "\n",
    "feat_vec = supp_7_df[\"Expanded Sequence\"].apply(fe.ext_sgRNA_feat)\n",
    "\n",
    "print(supp_7_df.columns)"
   ]
  },
  {
   "cell_type": "code",
   "execution_count": 74,
   "metadata": {
    "scrolled": false
   },
   "outputs": [
    {
     "name": "stdout",
     "output_type": "stream",
     "text": [
      "590\n"
     ]
    }
   ],
   "source": [
    "print(len(feat_vec[0]))"
   ]
  },
  {
   "cell_type": "code",
   "execution_count": 75,
   "metadata": {},
   "outputs": [],
   "source": [
    "# Split dataset to 80% Training 20% Test\n",
    "from sklearn.model_selection import train_test_split \n",
    "import numpy as np\n",
    "\n",
    "vec_train, vec_test, label_train, label_test = train_test_split(feat_vec.values, supp_7_df[\"Top 20%\"].values, test_size=0.2, random_state=0)\n",
    "# Convert nested np.array to 2d np.array\n",
    "vec_train = np.array(list(vec_train))\n",
    "vec_test = np.array(list(vec_test))"
   ]
  },
  {
   "cell_type": "code",
   "execution_count": 76,
   "metadata": {},
   "outputs": [
    {
     "data": {
      "text/plain": [
       "LinearSVC(C=1.0, class_weight=None, dual=False, fit_intercept=True,\n",
       "     intercept_scaling=1, loss='squared_hinge', max_iter=1000,\n",
       "     multi_class='ovr', penalty='l1', random_state=None, tol=0.0001,\n",
       "     verbose=0)"
      ]
     },
     "execution_count": 76,
     "metadata": {},
     "output_type": "execute_result"
    }
   ],
   "source": [
    "# Eliminate most features: SVM with L-1 regularization constant\n",
    "\n",
    "from sklearn.svm import LinearSVC\n",
    "\n",
    "SVM_clf = LinearSVC(penalty='l1', loss='squared_hinge', dual=False)\n",
    "SVM_clf.fit(vec_train, label_train)"
   ]
  },
  {
   "cell_type": "code",
   "execution_count": 77,
   "metadata": {},
   "outputs": [
    {
     "name": "stdout",
     "output_type": "stream",
     "text": [
      "SVM Training accuracy: 0.9008152173913043\n",
      "SVM Test accuracy: 0.7262872628726287\n"
     ]
    }
   ],
   "source": [
    "# SVM Accuracies\n",
    "\n",
    "from sklearn.metrics import accuracy_score\n",
    "\n",
    "pred_train_SVM = SVM_clf.predict(vec_train)\n",
    "pred_test_SVM = SVM_clf.predict(vec_test)\n",
    "\n",
    "print(\"SVM Training accuracy:\", accuracy_score(pred_train_SVM, label_train))\n",
    "print(\"SVM Test accuracy:\", accuracy_score(pred_test_SVM, label_test))"
   ]
  },
  {
   "cell_type": "code",
   "execution_count": 78,
   "metadata": {
    "scrolled": true
   },
   "outputs": [
    {
     "name": "stdout",
     "output_type": "stream",
     "text": [
      "SVM Positive score: [0.74743698]\n",
      "SVM Negative score: [-0.4195389]\n",
      "301\n"
     ]
    }
   ],
   "source": [
    "# Diagnostics\n",
    "\n",
    "print(\"SVM Positive score:\", SVM_clf.intercept_ + np.dot(SVM_clf.coef_, (vec_train[label_train == True][0])))\n",
    "print(\"SVM Negative score:\", SVM_clf.intercept_ + np.dot(SVM_clf.coef_, (vec_train[label_train != True][0])))\n",
    "\n",
    "print(len(set(SVM_clf.coef_[0])))"
   ]
  },
  {
   "cell_type": "code",
   "execution_count": 79,
   "metadata": {},
   "outputs": [],
   "source": [
    "# Function for filtering, make vectorized version\n",
    "\n",
    "def filter_vec(input_vec, filter_bool):\n",
    "    return input_vec[filter_bool[0]]"
   ]
  },
  {
   "cell_type": "code",
   "execution_count": 80,
   "metadata": {},
   "outputs": [],
   "source": [
    "# Filter for non-0 weights, and only use corresponding features\n",
    "\n",
    "non_0_filter = (SVM_clf.coef_ != 0)\n",
    "non_0_weights = SVM_clf.coef_[non_0_filter]\n",
    "filtered_vec_train = np.apply_along_axis(filter_vec, 1, vec_train, non_0_filter)\n",
    "filtered_vec_test = np.apply_along_axis(filter_vec, 1, vec_test, non_0_filter)"
   ]
  },
  {
   "cell_type": "code",
   "execution_count": 81,
   "metadata": {},
   "outputs": [
    {
     "data": {
      "text/plain": [
       "LogisticRegression(C=1.0, class_weight=None, dual=False, fit_intercept=True,\n",
       "          intercept_scaling=1, max_iter=100, multi_class='warn',\n",
       "          n_jobs=None, penalty='l2', random_state=None, solver='warn',\n",
       "          tol=0.0001, verbose=0, warm_start=False)"
      ]
     },
     "execution_count": 81,
     "metadata": {},
     "output_type": "execute_result"
    }
   ],
   "source": [
    "# Logistic Regression using filtered weights\n",
    "\n",
    "from sklearn.linear_model import LogisticRegression\n",
    "LR_clf = LogisticRegression()\n",
    "LR_clf.fit(filtered_vec_train, label_train)"
   ]
  },
  {
   "cell_type": "code",
   "execution_count": 82,
   "metadata": {},
   "outputs": [
    {
     "name": "stdout",
     "output_type": "stream",
     "text": [
      "LR Training accuracy: 0.8980978260869565\n",
      "LR Test accuracy: 0.7262872628726287\n"
     ]
    }
   ],
   "source": [
    "# Logistic Regression Accuracies\n",
    "\n",
    "pred_train_LR = LR_clf.predict(filtered_vec_train)\n",
    "pred_test_LR = LR_clf.predict(filtered_vec_test)\n",
    "\n",
    "print(\"LR Training accuracy:\", accuracy_score(pred_train_LR, label_train))\n",
    "print(\"LR Test accuracy:\", accuracy_score(pred_test_LR, label_test))"
   ]
  },
  {
   "cell_type": "code",
   "execution_count": 83,
   "metadata": {},
   "outputs": [
    {
     "name": "stdout",
     "output_type": "stream",
     "text": [
      "training set counts {False: 1279, True: 193}\n",
      "test set counts {False: 292, True: 77}\n",
      "training set frequency {False: 0.8688858695652174, True: 0.13111413043478262}\n",
      "test set frequency {False: 0.7913279132791328, True: 0.2086720867208672}\n"
     ]
    }
   ],
   "source": [
    "#DISTRIBUTIONS\n",
    "train_unique, train_counts = np.unique(pred_train_LR, return_counts=True)\n",
    "test_unique, test_counts = np.unique(pred_test_LR, return_counts=True)\n",
    "print(\"training set counts\", dict(zip(train_unique, train_counts)))\n",
    "print(\"test set counts\", dict(zip(test_unique, test_counts)))\n",
    "\n",
    "print(\"training set frequency\", dict(zip(train_unique, train_counts/(train_counts[0]+ train_counts[1]))))\n",
    "print(\"test set frequency\", dict(zip(test_unique, test_counts/(test_counts[0]+ test_counts[1]))))\n"
   ]
  },
  {
   "cell_type": "code",
   "execution_count": 84,
   "metadata": {},
   "outputs": [],
   "source": [
    "# Function to get scores of each input vector\n",
    "import math\n",
    "\n",
    "def get_sgRNA_scores(input_vector, incpt, weights):\n",
    "    raw_score = incpt + np.dot(input_vector, weights)\n",
    "    prob_top_20 = 1 / (1 + (math.e)**(-1 * raw_score))\n",
    "    \n",
    "    return prob_top_20\n"
   ]
  },
  {
   "cell_type": "code",
   "execution_count": 85,
   "metadata": {},
   "outputs": [],
   "source": [
    "# Get scores of each feature\n",
    "\n",
    "feat_vec = np.array(list(feat_vec))\n",
    "filtered_feat_vec = np.apply_along_axis(filter_vec, 1, feat_vec, non_0_filter)\n",
    "supp_7_df[\"exp_score\"] = np.apply_along_axis(get_sgRNA_scores, 1, filtered_feat_vec, LR_clf.intercept_, LR_clf.coef_[0])"
   ]
  },
  {
   "cell_type": "code",
   "execution_count": 86,
   "metadata": {
    "scrolled": false
   },
   "outputs": [],
   "source": [
    "# Sort df by exp score\n",
    "\n",
    "Doench_rank = supp_7_df.sort_values(by=\"Gene % Rank\", ascending=False, inplace=False)\n",
    "CROPSR_rank = supp_7_df.sort_values(by=\"exp_score\", ascending=False, inplace=False)\n",
    "\n",
    "#Doench_rank.to_csv(\"/Users/daveistanto/Dropbox/UIUCGraduateSchool/Researches/CROPSR/data_files/doench_ranked.csv\", index=False)\n",
    "#CROPSR_rank.to_csv(\"/Users/daveistanto/Dropbox/UIUCGraduateSchool/Researches/CROPSR/data_files/CROPSR_ranked.csv\", index=False)"
   ]
  },
  {
   "cell_type": "code",
   "execution_count": 87,
   "metadata": {},
   "outputs": [
    {
     "name": "stdout",
     "output_type": "stream",
     "text": [
      "Correlation coefficient:  0.4724535626309528\n",
      "Correlation coefficient:  0.5366560121129108\n"
     ]
    },
    {
     "data": {
      "image/png": "[encoded data removed]",
      "text/plain": [
       "<Figure size 432x288 with 1 Axes>"
      ]
     },
     "metadata": {
      "needs_background": "light"
     },
     "output_type": "display_data"
    },
    {
     "data": {
      "image/png": "[encoded data removed]",
      "text/plain": [
       "<Figure size 432x288 with 1 Axes>"
      ]
     },
     "metadata": {
      "needs_background": "light"
     },
     "output_type": "display_data"
    }
   ],
   "source": [
    "# Scatter plot sgRNA vs Doench Gene rank\n",
    "\n",
    "import matplotlib.pyplot as plt\n",
    "from scipy.stats.stats import pearsonr\n",
    "\n",
    "plt.figure(1)\n",
    "plt.scatter(Doench_rank[\"Gene % Rank\"].values, Doench_rank[\"sgRNA Score\"].values)\n",
    "plt.ylabel(\"Doench sgRNA Score \")\n",
    "plt.xlabel(\"Gene % Rank\")\n",
    "plt.title(\"Gene % Rank vs Doench sgRNA Score\")\n",
    "\n",
    "print(\"Correlation coefficient: \", pearsonr(Doench_rank[\"Gene % Rank\"].values, Doench_rank[\"sgRNA Score\"].values)[0])\n",
    "\n",
    "plt.figure(2)\n",
    "plt.scatter(CROPSR_rank[\"Gene % Rank\"].values, CROPSR_rank[\"exp_score\"].values)\n",
    "plt.ylabel(\"CROPSR sgRNA Score \")\n",
    "plt.xlabel(\"Gene % Rank\")\n",
    "plt.title(\"Gene % Rank vs CROPSR sgRNA Score\")\n",
    "\n",
    "print(\"Correlation coefficient: \", pearsonr(CROPSR_rank[\"Gene % Rank\"].values, CROPSR_rank[\"exp_score\"].values)[0])"
   ]
  },
  {
   "cell_type": "code",
   "execution_count": 88,
   "metadata": {},
   "outputs": [
    {
     "data": {
      "text/plain": [
       "LogisticRegression(C=1.0, class_weight=None, dual=False, fit_intercept=True,\n",
       "          intercept_scaling=1, max_iter=100, multi_class='warn',\n",
       "          n_jobs=None, penalty='l2', random_state=None, solver='warn',\n",
       "          tol=0.0001, verbose=0, warm_start=False)"
      ]
     },
     "execution_count": 88,
     "metadata": {},
     "output_type": "execute_result"
    }
   ],
   "source": [
    "# Logistic Regression only\n",
    "\n",
    "from sklearn.linear_model import LogisticRegression\n",
    "LR_only_clf = LogisticRegression()\n",
    "LR_only_clf.fit(vec_train, label_train)"
   ]
  },
  {
   "cell_type": "code",
   "execution_count": 89,
   "metadata": {
    "scrolled": true
   },
   "outputs": [
    {
     "name": "stdout",
     "output_type": "stream",
     "text": [
      "LR Only Training accuracy: 0.8980978260869565\n",
      "LR Only Test accuracy: 0.7154471544715447\n"
     ]
    }
   ],
   "source": [
    "# Logistic Regression only Accuracies\n",
    "\n",
    "from sklearn.metrics import accuracy_score\n",
    "\n",
    "pred_train_only_LR = LR_only_clf.predict(vec_train)\n",
    "pred_test_only_LR = LR_only_clf.predict(vec_test)\n",
    "\n",
    "print(\"LR Only Training accuracy:\", accuracy_score(pred_train_only_LR, label_train))\n",
    "print(\"LR Only Test accuracy:\", accuracy_score(pred_test_only_LR, label_test))"
   ]
  },
  {
   "cell_type": "code",
   "execution_count": 90,
   "metadata": {},
   "outputs": [],
   "source": [
    "# Linear neural network Classifier, ranked\n",
    "\n",
    "import torch\n",
    "from torch import nn\n",
    "\n",
    "p_threshold = 0.5\n",
    "class nnClassifier(nn.Module):\n",
    "    def __init__(self):\n",
    "        super(nnClassifier, self).__init__()\n",
    "        \n",
    "        self.lin_1 = nn.Linear(590, 300)\n",
    "        self.lin_2 = nn.Linear(300, 100)\n",
    "        self.lin_3 = nn.Linear(100, 10)\n",
    "        self.lin_4 = nn.Linear(10, 1)\n",
    "        \n",
    "        self.seq = nn.Sequential(\n",
    "            self.lin_1,\n",
    "            nn.ReLU(),\n",
    "            self.lin_2,\n",
    "            nn.ReLU(),\n",
    "            self.lin_3,\n",
    "            nn.ReLU(),\n",
    "            self.lin_4,\n",
    "            nn.Sigmoid()\n",
    "        )\n",
    "\n",
    "    def forward(self, x):\n",
    "        prob = self.seq(x.type(torch.FloatTensor))\n",
    "        label_tensor = prob > p_threshold\n",
    "     \n",
    "        return prob, label_tensor.type(torch.FloatTensor)\n",
    "        \n"
   ]
  },
  {
   "cell_type": "code",
   "execution_count": 91,
   "metadata": {},
   "outputs": [],
   "source": [
    "from torch.utils.data import Dataset, DataLoader\n",
    "# Data loaders, training and test loader\n",
    "\n",
    "class mouse_dataset(Dataset):\n",
    "    \n",
    "    # Initialize data\n",
    "    def __init__(self, input_x, input_y):\n",
    "        self.len = len(input_x)\n",
    "        self.x_data = torch.from_numpy(input_x)\n",
    "        self.y_data = torch.from_numpy(input_y)\n",
    "        \n",
    "    def __getitem__(self, index):\n",
    "        return self.x_data[index], self.y_data[index]\n",
    "    \n",
    "    def __len__(self):\n",
    "        return self.len\n",
    "    \n",
    "mouse_train_dataset = mouse_dataset(vec_train, label_train.astype(int))\n",
    "mouse_test_dataset = mouse_dataset(vec_test, label_test.astype(int))\n",
    "\n",
    "# mouse_train_filtered_dataset = mouse_dataset()\n"
   ]
  },
  {
   "cell_type": "code",
   "execution_count": 98,
   "metadata": {},
   "outputs": [],
   "source": [
    "# Code for training test nn\n",
    "\n",
    "import torch\n",
    "import torch.nn.functional as F\n",
    "\n",
    "def train_test_nn(model, train_loader, test_loader, loss_func, opt, epochs=10, writer=None):\n",
    "    \n",
    "#     Divide training data to batches:\n",
    "    \n",
    "\n",
    "    for epoch_index in range(epochs):\n",
    "        \n",
    "        # Train nn \n",
    "        train_epoch_total_loss = 0\n",
    "        train_epoch_total_acc = 0\n",
    "        train_total_batches = 0\n",
    "        \n",
    "        for i, data in enumerate(train_loader, 0):\n",
    "            \n",
    "            # Load data and forward\n",
    "            train_input, train_labels = data         \n",
    "            train_prob_good, train_pred_labels = model(train_input)\n",
    "\n",
    "            # Loss, back propagation\n",
    "            train_batch_loss = loss_func(train_prob_good, train_labels)\n",
    "            opt.zero_grad()\n",
    "            train_batch_loss.backward()\n",
    "            opt.step()\n",
    "            \n",
    "            # Metrics\n",
    "            train_epoch_total_loss += train_batch_loss.item()\n",
    "            train_epoch_total_acc += hybrid_get_accuracy(train_pred_labels, train_labels)\n",
    "            train_total_batches += 1\n",
    "                \n",
    "\n",
    "        # Test nn\n",
    "        test_epoch_total_loss = 0\n",
    "        test_epoch_total_acc = 0\n",
    "        test_total_batches = 0\n",
    "\n",
    "        for i, data in enumerate(test_loader, 0):\n",
    "\n",
    "            # Load data, forward\n",
    "            test_input, test_labels = data\n",
    "            test_prob_good, test_pred_labels = model(test_input)\n",
    "            \n",
    "            # Loss\n",
    "            test_batch_loss = loss_func(test_prob_good, test_labels)\n",
    "            \n",
    "            # Metrics\n",
    "            test_epoch_total_loss += test_batch_loss.item()\n",
    "            test_epoch_total_acc += hybrid_get_accuracy(test_pred_labels, test_labels)\n",
    "            test_total_batches += 1\n",
    "\n",
    "            \n",
    "        if epoch_index % 200 == 0 or epoch_index == epochs - 1:\n",
    "            print(\"Now at epoch\", epoch_index)\n",
    "#         if epoch_index % 50 == 0 or epoch_index == epochs - 1:\n",
    "#             print(\"Epoch\", epoch_index, \"Training Accuracy:\", train_epoch_total_acc / train_total_batches)\n",
    "#             print(\"Epoch\", epoch_index, \"Training Loss:\", train_epoch_total_loss / train_total_batches)\n",
    "#             print(\"Epoch\", epoch_index, \"Test Accuracy:\", test_epoch_total_acc / test_total_batches)\n",
    "#             print(\"Epoch\", epoch_index, \"Test Loss:\", test_epoch_total_loss / test_total_batches)\n",
    "#             # Get epoch average batch loss and accuracy\n",
    "#         writer.add_scalar(\"Epoch Training Batch Loss Average:\", train_epoch_total_loss / train_total_batches, epoch_index)\n",
    "#         writer.add_scalar(\"Epoch Training Batch Accuracy Average:\", train_epoch_total_acc / train_total_batches, epoch_index)\n",
    "#         writer.add_scalar(\"Epoch Test Batch Loss Average:\", test_epoch_total_loss / test_total_batches, epoch_index)\n",
    "#         writer.add_scalar(\"Epoch Test Batch Accuracy Average:\", test_epoch_total_acc / test_total_batches, epoch_index)     \n",
    "         \n",
    "    return (test_epoch_total_acc / test_total_batches)\n",
    "            \n",
    "\n",
    "\n",
    "    "
   ]
  },
  {
   "cell_type": "code",
   "execution_count": 93,
   "metadata": {},
   "outputs": [],
   "source": [
    "# new get accuracy function\n",
    "\n",
    "def hybrid_get_accuracy(pred_label, actual_label):\n",
    "    pred_label = pred_label.view(pred_label.size()[0]).type(torch.LongTensor)\n",
    "\n",
    "    eq_tensor = (actual_label == pred_label)\n",
    "    \n",
    "    acc = torch.sum(eq_tensor).item()/ eq_tensor.size()[0]\n",
    "    \n",
    "    return acc"
   ]
  },
  {
   "cell_type": "code",
   "execution_count": 94,
   "metadata": {},
   "outputs": [],
   "source": [
    "# 2-Class classification Helper function\n",
    "def class_get_accuracy(model_output_tensor, actual_value_tensor):\n",
    "    # Get the node / torch with largest value, multiple tensors at once,\n",
    "    # torch.max returns (max_value, index_of_max_value)\n",
    "    max_val_indices = torch.max(model_output_tensor, dim = 1)[1]\n",
    "    \n",
    "    # Get the number of rights, item() is to extract scalar from 1D tensor with 1 Element\n",
    "    right_count = torch.sum(torch.eq(max_val_indices, actual_value_tensor)).item()\n",
    "    \n",
    "    # Get accuracy by dividing by length of each tensor\n",
    "    batch_size = max_val_indices.size()[0]\n",
    "    acc = right_count / batch_size\n",
    "    return acc\n"
   ]
  },
  {
   "cell_type": "code",
   "execution_count": 95,
   "metadata": {},
   "outputs": [],
   "source": [
    "# Logistic regression loss helper\n",
    "import torch\n",
    "def get_logreg(pred, target):\n",
    "\n",
    "    pred = pred.view(pred.size()[0])\n",
    "    target = target.type(torch.FloatTensor)\n",
    "    loss = torch.mul(target, torch.mul(-1, torch.log(pred))) + torch.mul(1 - target, torch.mul(-1, torch.log(1 - pred)))\n",
    "\n",
    "    mean_loss = torch.mean(loss)\n",
    "    \n",
    "    return mean_loss"
   ]
  },
  {
   "cell_type": "code",
   "execution_count": 100,
   "metadata": {
    "scrolled": true
   },
   "outputs": [
    {
     "name": "stdout",
     "output_type": "stream",
     "text": [
      "Now at epoch 0\n",
      "Now at epoch 200\n",
      "Now at epoch 400\n",
      "Now at epoch 600\n",
      "Now at epoch 800\n",
      "Now at epoch 1000\n",
      "Now at epoch 1200\n",
      "Now at epoch 1400\n",
      "Now at epoch 1600\n",
      "Now at epoch 1800\n",
      "Now at epoch 1999\n"
     ]
    },
    {
     "data": {
      "text/plain": [
       "0.776654411764706"
      ]
     },
     "execution_count": 100,
     "metadata": {},
     "output_type": "execute_result"
    }
   ],
   "source": [
    "# Train model\n",
    "from torch import optim\n",
    "from tensorboardX import SummaryWriter\n",
    "\n",
    "model = nnClassifier()\n",
    "mouse_train_loader = DataLoader(dataset=mouse_train_dataset, batch_size = 32, shuffle = True, num_workers = 2)\n",
    "mouse_test_loader = DataLoader(dataset=mouse_test_dataset, batch_size = 32, shuffle = True, num_workers = 2)\n",
    "#loss_1 = nn.CrossEntropyLoss()\n",
    "loss_1 = get_logreg\n",
    "optimizer = optim.SGD(model.parameters(), lr = 0.001, weight_decay=0.0001)\n",
    "writer = SummaryWriter()\n",
    "\n",
    "\n",
    "train_test_nn(model, mouse_train_loader, mouse_test_loader, loss_1, optimizer, epochs=2000, writer=writer)"
   ]
  },
  {
   "cell_type": "code",
   "execution_count": 97,
   "metadata": {},
   "outputs": [
    {
     "name": "stdout",
     "output_type": "stream",
     "text": [
      "Currently in iteration: 0\n",
      "Now starting 1\n",
      "SVM LR accuracy: 0.7154471544715447\n",
      "Now starting 2\n",
      "LR only accuracy: 0.7154471544715447\n",
      "Now starting 3\n",
      "Now at epoch 0\n",
      "Now at epoch 200\n",
      "Now at epoch 400\n",
      "Now at epoch 600\n",
      "Now at epoch 800\n",
      "Now at epoch 849\n",
      "NN only accuracy: 0.7743566176470589\n",
      "Currently in iteration: 1\n",
      "Now starting 1\n",
      "SVM LR accuracy: 0.7073170731707317\n",
      "Now starting 2\n",
      "LR only accuracy: 0.7154471544715447\n",
      "Now starting 3\n",
      "Now at epoch 0\n",
      "Now at epoch 200\n",
      "Now at epoch 400\n",
      "Now at epoch 600\n",
      "Now at epoch 800\n",
      "Now at epoch 849\n",
      "NN only accuracy: 0.7622549019607843\n",
      "Currently in iteration: 2\n",
      "Now starting 1\n",
      "SVM LR accuracy: 0.7208672086720868\n",
      "Now starting 2\n",
      "LR only accuracy: 0.7154471544715447\n",
      "Now starting 3\n",
      "Now at epoch 0\n",
      "Now at epoch 200\n",
      "Now at epoch 400\n",
      "Now at epoch 600\n",
      "Now at epoch 800\n",
      "Now at epoch 849\n",
      "NN only accuracy: 0.7486213235294118\n",
      "Currently in iteration: 3\n",
      "Now starting 1\n",
      "SVM LR accuracy: 0.7208672086720868\n",
      "Now starting 2\n",
      "LR only accuracy: 0.7154471544715447\n",
      "Now starting 3\n",
      "Now at epoch 0\n",
      "Now at epoch 200\n",
      "Now at epoch 400\n",
      "Now at epoch 600\n",
      "Now at epoch 800\n",
      "Now at epoch 849\n",
      "NN only accuracy: 0.776654411764706\n",
      "Currently in iteration: 4\n",
      "Now starting 1\n",
      "SVM LR accuracy: 0.7100271002710027\n",
      "Now starting 2\n",
      "LR only accuracy: 0.7154471544715447\n",
      "Now starting 3\n",
      "Now at epoch 0\n",
      "Now at epoch 200\n",
      "Now at epoch 400\n",
      "Now at epoch 600\n",
      "Now at epoch 800\n",
      "Now at epoch 849\n",
      "NN only accuracy: 0.7573529411764706\n",
      "Currently in iteration: 5\n",
      "Now starting 1\n",
      "SVM LR accuracy: 0.7181571815718157\n",
      "Now starting 2\n",
      "LR only accuracy: 0.7154471544715447\n",
      "Now starting 3\n",
      "Now at epoch 0\n",
      "Now at epoch 200\n",
      "Now at epoch 400\n",
      "Now at epoch 600\n",
      "Now at epoch 800\n",
      "Now at epoch 849\n",
      "NN only accuracy: 0.7789522058823529\n",
      "Currently in iteration: 6\n",
      "Now starting 1\n",
      "SVM LR accuracy: 0.7127371273712737\n",
      "Now starting 2\n",
      "LR only accuracy: 0.7154471544715447\n",
      "Now starting 3\n",
      "Now at epoch 0\n",
      "Now at epoch 200\n",
      "Now at epoch 400\n",
      "Now at epoch 600\n",
      "Now at epoch 800\n",
      "Now at epoch 849\n",
      "NN only accuracy: 0.7590379901960785\n",
      "Currently in iteration: 7\n",
      "Now starting 1\n",
      "SVM LR accuracy: 0.7154471544715447\n",
      "Now starting 2\n",
      "LR only accuracy: 0.7154471544715447\n",
      "Now starting 3\n",
      "Now at epoch 0\n",
      "Now at epoch 200\n",
      "Now at epoch 400\n",
      "Now at epoch 600\n",
      "Now at epoch 800\n",
      "Now at epoch 849\n",
      "NN only accuracy: 0.7720588235294118\n",
      "Currently in iteration: 8\n",
      "Now starting 1\n",
      "SVM LR accuracy: 0.7127371273712737\n",
      "Now starting 2\n",
      "LR only accuracy: 0.7154471544715447\n",
      "Now starting 3\n",
      "Now at epoch 0\n",
      "Now at epoch 200\n",
      "Now at epoch 400\n",
      "Now at epoch 600\n",
      "Now at epoch 800\n",
      "Now at epoch 849\n",
      "NN only accuracy: 0.7668504901960785\n",
      "Currently in iteration: 9\n",
      "Now starting 1\n",
      "SVM LR accuracy: 0.7181571815718157\n",
      "Now starting 2\n",
      "LR only accuracy: 0.7154471544715447\n",
      "Now starting 3\n",
      "Now at epoch 0\n",
      "Now at epoch 200\n",
      "Now at epoch 400\n",
      "Now at epoch 600\n",
      "Now at epoch 800\n",
      "Now at epoch 849\n",
      "NN only accuracy: 0.7697610294117646\n"
     ]
    }
   ],
   "source": [
    "from sklearn.metrics import accuracy_score\n",
    "from sklearn.model_selection import train_test_split \n",
    "import numpy as np\n",
    "from torch import optim\n",
    "# Statistical Tests on Test Accuracy\n",
    "\n",
    "N = 10\n",
    "SVM_LR = np.array([])\n",
    "LR_only = np.array([])\n",
    "NN_only = np.array([])\n",
    "\n",
    "for i in range(N):\n",
    "    \n",
    "    print(\"Currently in iteration:\", i)\n",
    "    # Shuffle test and training sets\n",
    "    \n",
    "    vec_train, vec_test, label_train, label_test = train_test_split(feat_vec, supp_7_df[\"Top 20%\"], test_size=0.2, random_state=0)\n",
    "    # Convert nested np.array to 2d np.array\n",
    "    vec_train = np.array(list(vec_train))\n",
    "    vec_test = np.array(list(vec_test))\n",
    "\n",
    "    print(\"Now starting 1\")\n",
    "    # 1. SVM -> Logistic Regression\n",
    "    SVM_clf.fit(vec_train, label_train)\n",
    "    \n",
    "    # Filter for non-0 weights, and only use corresponding features\n",
    "    non_0_filter = (SVM_clf.coef_ != 0)\n",
    "    non_0_weights = SVM_clf.coef_[non_0_filter]\n",
    "    filtered_vec_train = np.apply_along_axis(filter_vec, 1, vec_train, non_0_filter)\n",
    "    filtered_vec_test = np.apply_along_axis(filter_vec, 1, vec_test, non_0_filter)\n",
    "    \n",
    "    # Logistic Regression using filtered weights\n",
    "    from sklearn.linear_model import LogisticRegression\n",
    "    LR_clf = LogisticRegression()\n",
    "    LR_clf.fit(filtered_vec_train, label_train)\n",
    "    pred_test_LR = LR_clf.predict(filtered_vec_test)\n",
    "    SVM_LR_acc = accuracy_score(pred_test_LR, label_test)\n",
    "    print(\"SVM LR accuracy:\", SVM_LR_acc)\n",
    "    \n",
    "    print(\"Now starting 2\")\n",
    "    # 2. LR Only\n",
    "    LR_only_clf = LogisticRegression()\n",
    "    LR_only_clf.fit(vec_train, label_train)\n",
    "    pred_test_only_LR = LR_only_clf.predict(vec_test)\n",
    "    LR_only_acc = accuracy_score(pred_test_only_LR, label_test)\n",
    "    print(\"LR only accuracy:\", LR_only_acc)\n",
    "    \n",
    "    print(\"Now starting 3\")\n",
    "    # 3. NN Only\n",
    "    model = nnClassifier()\n",
    "    mouse_train_loader = DataLoader(dataset=mouse_train_dataset, batch_size = 32, shuffle = True, num_workers = 2)\n",
    "    mouse_test_loader = DataLoader(dataset=mouse_test_dataset, batch_size = 32, shuffle = True, num_workers = 2)\n",
    "    #loss_1 = nn.CrossEntropyLoss()\n",
    "    loss_1 = get_logreg\n",
    "    optimizer = optim.SGD(model.parameters(), lr = 0.001, weight_decay=0.0001)\n",
    "    NN_acc = train_test_nn(model, mouse_train_loader, mouse_test_loader, loss_1, optimizer, epochs=850)\n",
    "    print(\"NN only accuracy:\", NN_acc)\n",
    "    \n",
    "    # Append each accuracy to the np.array\n",
    "    SVM_LR = np.append(SVM_LR, SVM_LR_acc)\n",
    "    LR_only = np.append(LR_only, LR_only_acc)\n",
    "    NN_only = np.append(NN_only, NN_acc)\n",
    "    \n",
    "    "
   ]
  },
  {
   "cell_type": "code",
   "execution_count": 101,
   "metadata": {},
   "outputs": [
    {
     "name": "stdout",
     "output_type": "stream",
     "text": [
      "[0.71544715 0.70731707 0.72086721 0.72086721 0.7100271  0.71815718\n",
      " 0.71273713 0.71544715 0.71273713 0.71815718]\n",
      "[0.71544715 0.71544715 0.71544715 0.71544715 0.71544715 0.71544715\n",
      " 0.71544715 0.71544715 0.71544715 0.71544715]\n",
      "[0.77435662 0.7622549  0.74862132 0.77665441 0.75735294 0.77895221\n",
      " 0.75903799 0.77205882 0.76685049 0.76976103]\n"
     ]
    }
   ],
   "source": [
    "print(SVM_LR)\n",
    "print(LR_only)\n",
    "print(NN_only)"
   ]
  },
  {
   "cell_type": "code",
   "execution_count": null,
   "metadata": {},
   "outputs": [],
   "source": []
  }
 ],
 "metadata": {
  "kernelspec": {
   "display_name": "Python 3",
   "language": "python",
   "name": "python3"
  },
  "language_info": {
   "codemirror_mode": {
    "name": "ipython",
    "version": 3
   },
   "file_extension": ".py",
   "mimetype": "text/x-python",
   "name": "python",
   "nbconvert_exporter": "python",
   "pygments_lexer": "ipython3",
   "version": "3.7.0"
  }
 },
 "nbformat": 4,
 "nbformat_minor": 2
}
