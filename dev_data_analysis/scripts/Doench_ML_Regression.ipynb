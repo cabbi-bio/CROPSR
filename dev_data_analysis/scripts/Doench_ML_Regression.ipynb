{
 "cells": [
  {
   "cell_type": "code",
   "execution_count": 12,
   "metadata": {},
   "outputs": [],
   "source": [
    "# Machine learning pipeline for Doench Data, supplementary table 7\n",
    "import pandas as pd\n",
    "\n",
    "supp_7_path = \"/Users/daveistanto/Dropbox/UIUCGraduateSchool/Researches/CROPSR_head_dir/data_files/supp_table_7.csv\"\n",
    "supp_7_df = pd.read_csv(supp_7_path)"
   ]
  },
  {
   "cell_type": "code",
   "execution_count": 13,
   "metadata": {},
   "outputs": [],
   "source": [
    "# Extract features\n",
    "\n",
    "import Feature_Extraction as fe\n",
    "\n",
    "feat_vec = supp_7_df[\"Expanded Sequence\"].apply(fe.ext_sgRNA_feat)\n",
    "xy_df = supp_7_df.drop(['Sequence', 'Expanded Sequence', 'Position', \"Type\", 'Gene', \"Transcript\", \"Strand\"], axis = 1)\n",
    "xy_df[\"X\"] = feat_vec"
   ]
  },
  {
   "cell_type": "code",
   "execution_count": 14,
   "metadata": {},
   "outputs": [],
   "source": [
    "# Split dataset to 80% Training 20% Test\n",
    "from sklearn.model_selection import train_test_split \n",
    "import numpy as np\n",
    "\n",
    "vec_train, vec_test, label_train, label_test = train_test_split(xy_df[\"X\"], xy_df[\"Gene % Rank\"], test_size=0.2, random_state=0)\n",
    "\n",
    "# Convert nested np.array to 2d np.array\n",
    "vec_train = np.array(list(vec_train))\n",
    "vec_test = np.array(list(vec_test))"
   ]
  },
  {
   "cell_type": "code",
   "execution_count": 15,
   "metadata": {
    "scrolled": true
   },
   "outputs": [
    {
     "name": "stdout",
     "output_type": "stream",
     "text": [
      "Train RMSE Linear Regression: 0.19863267830742606\n",
      "Test RMSE Linear Regression: 0.2558073996529773\n"
     ]
    }
   ],
   "source": [
    "# Linear Regression\n",
    "from sklearn.linear_model import LinearRegression\n",
    "from sklearn.metrics import mean_squared_error\n",
    "\n",
    "linear_reg = LinearRegression().fit(vec_train, label_train)\n",
    "pred_train = linear_reg.predict(vec_train)\n",
    "pred_test = linear_reg.predict(vec_test)\n",
    "\n",
    "train_MSE = mean_squared_error(label_train, pred_train)\n",
    "test_MSE = mean_squared_error(label_test, pred_test)\n",
    "\n",
    "print(\"Train RMSE Linear Regression:\", train_MSE**(1/2))\n",
    "print(\"Test RMSE Linear Regression:\", test_MSE**(1/2))"
   ]
  },
  {
   "cell_type": "code",
   "execution_count": 16,
   "metadata": {},
   "outputs": [],
   "source": [
    "# Data loaders, training and test loader\n",
    "import torch\n",
    "from torch.utils.data import Dataset, DataLoader\n",
    "class mouse_dataset(Dataset):\n",
    "    \n",
    "    # Initialize data\n",
    "    def __init__(self, input_x, input_y):\n",
    "        self.len = len(input_x)\n",
    "        self.x_data = torch.Tensor(input_x)\n",
    "        self.y_data = torch.Tensor(input_y)\n",
    "        \n",
    "    def __getitem__(self, index):\n",
    "        return self.x_data[index], self.y_data[index]\n",
    "    \n",
    "    def __len__(self):\n",
    "        return self.len\n",
    "    \n",
    "mouse_train_dataset = mouse_dataset(vec_train, label_train.values)\n",
    "mouse_test_dataset = mouse_dataset(vec_test, label_test.values)"
   ]
  },
  {
   "cell_type": "code",
   "execution_count": 23,
   "metadata": {},
   "outputs": [],
   "source": [
    "# Code for training test nn\n",
    "\n",
    "def train_test_nn(model, train_loader, test_loader, loss_func, opt, epochs=10, writer=None):\n",
    "\n",
    "    for epoch_index in range(epochs):\n",
    "        \n",
    "        # Train nn\n",
    "        train_epoch_total_loss = 0\n",
    "        train_total_batches = 0\n",
    "            \n",
    "        for i, data in enumerate(train_loader, 0):\n",
    "            # Get training data, predict, calculate loss\n",
    "            train_input, train_labels = data \n",
    "            train_pred_labels = model(train_input)\n",
    "            train_batch_loss = loss_func(train_pred_labels, train_labels)\n",
    "            \n",
    "            # Back propagation and taking steps for parameters\n",
    "            opt.zero_grad()\n",
    "            train_batch_loss.backward()\n",
    "            opt.step()\n",
    "\n",
    "            # Metrics purposes\n",
    "            train_epoch_total_loss += train_batch_loss.item()\n",
    "            train_total_batches += 1\n",
    "            \n",
    "        \n",
    "        # Test nn\n",
    "        \n",
    "        test_epoch_total_loss = 0\n",
    "        test_total_batches = 0\n",
    "        \n",
    "        \n",
    "        for i, data in enumerate(test_loader, 0):\n",
    "            \n",
    "            # Get test data, predict, calculate loss\n",
    "            test_input, test_labels = data\n",
    "            test_pred_labels = model(test_input)\n",
    "            test_batch_loss = loss_func(test_pred_labels, test_labels)\n",
    "            \n",
    "            # Metrics purposes\n",
    "            test_epoch_total_loss += test_batch_loss.item()\n",
    "            test_total_batches += 1\n",
    "        \n",
    "    \n",
    "        # Write out metrics\n",
    "        \n",
    "        if epoch_index % 50 == 0 or epoch_index == epochs - 1:\n",
    "            print(\"Epoch\", epoch_index, \"Training Loss (RMSE):\", (train_epoch_total_loss / train_total_batches)**(1/2))\n",
    "            print(\"Epoch\", epoch_index, \"Test Loss (RMSE):\", (test_epoch_total_loss / test_total_batches) **(1/2))\n",
    "            \n",
    "        writer.add_scalar(\"Epoch Training Batch Loss Average(RMSE):\", (train_epoch_total_loss / train_total_batches)**(1/2), epoch_index)\n",
    "        writer.add_scalar(\"Epoch Test Batch Loss Average(RMSE):\", (test_epoch_total_loss / test_total_batches)**(1/2), epoch_index)\n",
    "\n"
   ]
  },
  {
   "cell_type": "code",
   "execution_count": 24,
   "metadata": {},
   "outputs": [],
   "source": [
    "# Simple NN (Like logistic regression)\n",
    "\n",
    "from torch import nn\n",
    "\n",
    "# NN Model\n",
    "class simpleNN(nn.Module):\n",
    "    def __init__(self):\n",
    "        super(simpleNN, self).__init__()\n",
    "        \n",
    "        self.lin_1 = nn.Linear(590, 1)\n",
    "        self.sig = nn.Sigmoid()\n",
    "        \n",
    "        self.seq = nn.Sequential(\n",
    "            self.lin_1,\n",
    "            self.sig\n",
    "        )\n",
    "\n",
    "    def forward(self, x):\n",
    "        return self.seq(x)"
   ]
  },
  {
   "cell_type": "code",
   "execution_count": 25,
   "metadata": {},
   "outputs": [],
   "source": [
    "# Dataset loaders and loss function\n",
    "from torch import optim\n",
    "from tensorboardX import SummaryWriter\n",
    "\n",
    "mouse_train_loader = DataLoader(dataset=mouse_train_dataset, batch_size = 32, shuffle = True, num_workers = 2)\n",
    "mouse_test_loader = DataLoader(dataset=mouse_test_dataset, batch_size = 32, shuffle = True, num_workers = 2)\n",
    "loss_func = nn.MSELoss()\n"
   ]
  },
  {
   "cell_type": "code",
   "execution_count": 26,
   "metadata": {},
   "outputs": [
    {
     "name": "stdout",
     "output_type": "stream",
     "text": [
      "Epoch 0 Training Loss (RMSE): 0.2940901394408326\n",
      "Epoch 0 Test Loss (RMSE): 0.2957096410308054\n",
      "Epoch 50 Training Loss (RMSE): 0.2874756686191938\n",
      "Epoch 50 Test Loss (RMSE): 0.2942950363952383\n",
      "Epoch 100 Training Loss (RMSE): 0.2869011274074037\n",
      "Epoch 100 Test Loss (RMSE): 0.2958185688244289\n",
      "Epoch 149 Training Loss (RMSE): 0.2857156073273778\n",
      "Epoch 149 Test Loss (RMSE): 0.2926896397582136\n"
     ]
    }
   ],
   "source": [
    "# Use simple NN\n",
    "simpleModel = simpleNN()\n",
    "simpleModelOptimizer = optim.SGD(simpleModel.parameters(), lr = 0.001, weight_decay = 0.00001)\n",
    "# simpleModelWriter = SummaryWriter(\"/Users/daveistanto/Dropbox/UIUCGraduateSchool/Researches/CROPSR_head_dir/CROPSR/dev_data_analysis/scripts/runs/simpleNNModel\")\n",
    "simpleModelWriter = SummaryWriter()\n",
    "\n",
    "train_test_nn(simpleModel, mouse_train_loader, mouse_test_loader, loss_func, simpleModelOptimizer, epochs = 150, writer = simpleModelWriter)"
   ]
  },
  {
   "cell_type": "code",
   "execution_count": 27,
   "metadata": {},
   "outputs": [],
   "source": [
    "# Complex NN\n",
    "\n",
    "from torch import nn\n",
    "\n",
    "## Complex NN model\n",
    "\n",
    "class complexNN(nn.Module):\n",
    "    def __init__(self):\n",
    "        super(complexNN, self).__init__()\n",
    "        self.lin_1 = nn.Linear(590, 300)\n",
    "        self.lin_2 = nn.Linear(300, 100)\n",
    "        self.lin_3 = nn.Linear(100,1)\n",
    "        \n",
    "        self.seq = nn.Sequential(\n",
    "            self.lin_1,\n",
    "            nn.ReLU(),\n",
    "            self.lin_2,\n",
    "            nn.ReLU(),\n",
    "            nn.Dropout(p=0.3),\n",
    "            self.lin_3,\n",
    "            nn.Sigmoid()\n",
    "        )\n",
    "        \n",
    "    def forward(self, x):\n",
    "        return self.seq(x)\n",
    "        "
   ]
  },
  {
   "cell_type": "code",
   "execution_count": 28,
   "metadata": {},
   "outputs": [
    {
     "name": "stdout",
     "output_type": "stream",
     "text": [
      "Epoch 0 Training Loss (RMSE): 0.28698250715747264\n",
      "Epoch 0 Test Loss (RMSE): 0.2970339031927069\n",
      "Epoch 50 Training Loss (RMSE): 0.2829659645681264\n",
      "Epoch 50 Test Loss (RMSE): 0.29288827850576754\n",
      "Epoch 100 Training Loss (RMSE): 0.2825786154656626\n",
      "Epoch 100 Test Loss (RMSE): 0.2926971458721453\n",
      "Epoch 149 Training Loss (RMSE): 0.2824152583531393\n",
      "Epoch 149 Test Loss (RMSE): 0.29565691927086263\n"
     ]
    }
   ],
   "source": [
    "# Use complex NN\n",
    "complexModel = complexNN()\n",
    "complexModelOptimizer = optim.SGD(complexModel.parameters(), lr = 0.001, weight_decay = 0.00001)\n",
    "# complexModelWriter = SummaryWriter(\"/Users/daveistanto/Dropbox/UIUCGraduateSchool/Researches/CROPSR_head_dir/CROPSR/dev_data_analysis/scripts/runs/complexModelWriterExp\")\n",
    "complexModelWriter = SummaryWriter()\n",
    "\n",
    "train_test_nn(complexModel, mouse_train_loader, mouse_test_loader, loss_func, complexModelOptimizer, epochs = 150, writer = complexModelWriter)"
   ]
  },
  {
   "cell_type": "code",
   "execution_count": null,
   "metadata": {},
   "outputs": [],
   "source": []
  }
 ],
 "metadata": {
  "kernelspec": {
   "display_name": "Python 3",
   "language": "python",
   "name": "python3"
  },
  "language_info": {
   "codemirror_mode": {
    "name": "ipython",
    "version": 3
   },
   "file_extension": ".py",
   "mimetype": "text/x-python",
   "name": "python",
   "nbconvert_exporter": "python",
   "pygments_lexer": "ipython3",
   "version": "3.7.0"
  }
 },
 "nbformat": 4,
 "nbformat_minor": 2
}
