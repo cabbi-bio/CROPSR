{
 "cells": [
  {
   "cell_type": "code",
   "execution_count": 2,
   "metadata": {},
   "outputs": [],
   "source": [
    "# Machine learning pipeline for Doench Data, supplementary table 7\n",
    "import pandas as pd\n",
    "\n",
    "supp_7_path = \"/Users/daveistanto/Dropbox/UIUCGraduateSchool/Researches/CROPSR_head_dir/data_files/supp_table_7.csv\"\n",
    "supp_7_df = pd.read_csv(supp_7_path)"
   ]
  },
  {
   "cell_type": "code",
   "execution_count": 3,
   "metadata": {},
   "outputs": [],
   "source": [
    "# Sort based on Gene % Rank, take top 20\n",
    "# import warnings\n",
    "# warnings.filterwarnings('ignore')\n",
    "\n",
    "# supp_7_df.sort_values(by=\"Gene % Rank\", ascending=False, inplace=True)\n",
    "# supp_7_df[\"Top 20%\"] = False\n",
    "# supp_7_df[\"Top 20%\"][0:int(len(supp_7_df)*0.5)] = True\n"
   ]
  },
  {
   "cell_type": "code",
   "execution_count": 4,
   "metadata": {},
   "outputs": [],
   "source": [
    "# # Sort based on Gene % Rank but group by Gene\n",
    "import warnings\n",
    "warnings.filterwarnings('ignore')\n",
    "unique_gene_list = list(set(supp_7_df[\"Gene\"]))\n",
    "\n",
    "supp_7_df[\"Top 20%\"] = False\n",
    "\n",
    "for gene in unique_gene_list:\n",
    "    supp_7_df_temp = supp_7_df[supp_7_df[\"Gene\"] == gene]\n",
    "    supp_7_df_temp[\"Top 20%\"][0:int(len(supp_7_df_temp)*0.2)] = True\n",
    "    supp_7_df[supp_7_df[\"Gene\"] == gene] = supp_7_df_temp\n",
    "    "
   ]
  },
  {
   "cell_type": "code",
   "execution_count": 5,
   "metadata": {},
   "outputs": [
    {
     "name": "stdout",
     "output_type": "stream",
     "text": [
      "Index(['Sequence', 'Expanded Sequence', 'Position', 'Type', 'Gene',\n",
      "       'Transcript', 'Strand', 'Gene % Rank', 'sgRNA Score', 'Top 20%'],\n",
      "      dtype='object')\n"
     ]
    }
   ],
   "source": [
    "# Extract features\n",
    "\n",
    "import Feature_Extraction as fe\n",
    "\n",
    "feat_vec = supp_7_df[\"Expanded Sequence\"].apply(fe.ext_sgRNA_feat)\n",
    "\n",
    "print(supp_7_df.columns)"
   ]
  },
  {
   "cell_type": "code",
   "execution_count": 6,
   "metadata": {
    "scrolled": false
   },
   "outputs": [
    {
     "name": "stdout",
     "output_type": "stream",
     "text": [
      "590\n"
     ]
    }
   ],
   "source": [
    "print(len(feat_vec[0]))"
   ]
  },
  {
   "cell_type": "code",
   "execution_count": 7,
   "metadata": {},
   "outputs": [],
   "source": [
    "# Split dataset to 80% Training 20% Test\n",
    "from sklearn.model_selection import train_test_split \n",
    "import numpy as np\n",
    "\n",
    "vec_train, vec_test, label_train, label_test = train_test_split(feat_vec.values, supp_7_df[\"Top 20%\"].values, test_size=0.2, random_state=0)\n",
    "# Convert nested np.array to 2d np.array\n",
    "vec_train = np.array(list(vec_train))\n",
    "vec_test = np.array(list(vec_test))"
   ]
  },
  {
   "cell_type": "code",
   "execution_count": 8,
   "metadata": {},
   "outputs": [
    {
     "data": {
      "text/plain": [
       "LinearSVC(C=1.0, class_weight=None, dual=False, fit_intercept=True,\n",
       "     intercept_scaling=1, loss='squared_hinge', max_iter=1000,\n",
       "     multi_class='ovr', penalty='l1', random_state=None, tol=0.0001,\n",
       "     verbose=0)"
      ]
     },
     "execution_count": 8,
     "metadata": {},
     "output_type": "execute_result"
    }
   ],
   "source": [
    "# Eliminate most features: SVM with L-1 regularization constant\n",
    "\n",
    "from sklearn.svm import LinearSVC\n",
    "\n",
    "SVM_clf = LinearSVC(penalty='l1', loss='squared_hinge', dual=False)\n",
    "SVM_clf.fit(vec_train, label_train)"
   ]
  },
  {
   "cell_type": "code",
   "execution_count": 9,
   "metadata": {},
   "outputs": [
    {
     "name": "stdout",
     "output_type": "stream",
     "text": [
      "SVM Training accuracy: 0.8987771739130435\n",
      "SVM Test accuracy: 0.7262872628726287\n"
     ]
    }
   ],
   "source": [
    "# SVM Accuracies\n",
    "\n",
    "from sklearn.metrics import accuracy_score\n",
    "\n",
    "pred_train_SVM = SVM_clf.predict(vec_train)\n",
    "pred_test_SVM = SVM_clf.predict(vec_test)\n",
    "\n",
    "print(\"SVM Training accuracy:\", accuracy_score(pred_train_SVM, label_train))\n",
    "print(\"SVM Test accuracy:\", accuracy_score(pred_test_SVM, label_test))"
   ]
  },
  {
   "cell_type": "code",
   "execution_count": 10,
   "metadata": {
    "scrolled": true
   },
   "outputs": [
    {
     "name": "stdout",
     "output_type": "stream",
     "text": [
      "SVM Positive score: [0.74583362]\n",
      "SVM Negative score: [-0.37164422]\n",
      "301\n"
     ]
    }
   ],
   "source": [
    "# Diagnostics\n",
    "\n",
    "print(\"SVM Positive score:\", SVM_clf.intercept_ + np.dot(SVM_clf.coef_, (vec_train[label_train == True][0])))\n",
    "print(\"SVM Negative score:\", SVM_clf.intercept_ + np.dot(SVM_clf.coef_, (vec_train[label_train != True][0])))\n",
    "\n",
    "print(len(set(SVM_clf.coef_[0])))"
   ]
  },
  {
   "cell_type": "code",
   "execution_count": 11,
   "metadata": {},
   "outputs": [],
   "source": [
    "# Function for filtering, make vectorized version\n",
    "\n",
    "def filter_vec(input_vec, filter_bool):\n",
    "    return input_vec[filter_bool[0]]"
   ]
  },
  {
   "cell_type": "code",
   "execution_count": 12,
   "metadata": {},
   "outputs": [],
   "source": [
    "# Filter for non-0 weights, and only use corresponding features\n",
    "\n",
    "non_0_filter = (SVM_clf.coef_ != 0)\n",
    "non_0_weights = SVM_clf.coef_[non_0_filter]\n",
    "filtered_vec_train = np.apply_along_axis(filter_vec, 1, vec_train, non_0_filter)\n",
    "filtered_vec_test = np.apply_along_axis(filter_vec, 1, vec_test, non_0_filter)"
   ]
  },
  {
   "cell_type": "code",
   "execution_count": 13,
   "metadata": {},
   "outputs": [
    {
     "data": {
      "text/plain": [
       "LogisticRegression(C=1.0, class_weight=None, dual=False, fit_intercept=True,\n",
       "          intercept_scaling=1, max_iter=100, multi_class='warn',\n",
       "          n_jobs=None, penalty='l2', random_state=None, solver='warn',\n",
       "          tol=0.0001, verbose=0, warm_start=False)"
      ]
     },
     "execution_count": 13,
     "metadata": {},
     "output_type": "execute_result"
    }
   ],
   "source": [
    "# Logistic Regression using filtered weights\n",
    "\n",
    "from sklearn.linear_model import LogisticRegression\n",
    "LR_clf = LogisticRegression()\n",
    "LR_clf.fit(filtered_vec_train, label_train)"
   ]
  },
  {
   "cell_type": "code",
   "execution_count": 14,
   "metadata": {},
   "outputs": [
    {
     "name": "stdout",
     "output_type": "stream",
     "text": [
      "LR Training accuracy: 0.8953804347826086\n",
      "LR Test accuracy: 0.7100271002710027\n"
     ]
    }
   ],
   "source": [
    "# Logistic Regression Accuracies\n",
    "\n",
    "pred_train_LR = LR_clf.predict(filtered_vec_train)\n",
    "pred_test_LR = LR_clf.predict(filtered_vec_test)\n",
    "\n",
    "print(\"LR Training accuracy:\", accuracy_score(pred_train_LR, label_train))\n",
    "print(\"LR Test accuracy:\", accuracy_score(pred_test_LR, label_test))"
   ]
  },
  {
   "cell_type": "code",
   "execution_count": 15,
   "metadata": {},
   "outputs": [
    {
     "name": "stdout",
     "output_type": "stream",
     "text": [
      "training set counts {False: 1281, True: 191}\n",
      "test set counts {False: 292, True: 77}\n",
      "training set frequency {False: 0.8702445652173914, True: 0.1297554347826087}\n",
      "test set frequency {False: 0.7913279132791328, True: 0.2086720867208672}\n"
     ]
    }
   ],
   "source": [
    "#DISTRIBUTIONS\n",
    "train_unique, train_counts = np.unique(pred_train_LR, return_counts=True)\n",
    "test_unique, test_counts = np.unique(pred_test_LR, return_counts=True)\n",
    "print(\"training set counts\", dict(zip(train_unique, train_counts)))\n",
    "print(\"test set counts\", dict(zip(test_unique, test_counts)))\n",
    "\n",
    "print(\"training set frequency\", dict(zip(train_unique, train_counts/(train_counts[0]+ train_counts[1]))))\n",
    "print(\"test set frequency\", dict(zip(test_unique, test_counts/(test_counts[0]+ test_counts[1]))))\n"
   ]
  },
  {
   "cell_type": "code",
   "execution_count": 16,
   "metadata": {},
   "outputs": [],
   "source": [
    "# Function to get scores of each input vector\n",
    "import math\n",
    "\n",
    "def get_sgRNA_scores(input_vector, incpt, weights):\n",
    "    raw_score = incpt + np.dot(input_vector, weights)\n",
    "    prob_top_20 = 1 / (1 + (math.e)**(-1 * raw_score))\n",
    "    \n",
    "    return prob_top_20\n"
   ]
  },
  {
   "cell_type": "code",
   "execution_count": 17,
   "metadata": {},
   "outputs": [],
   "source": [
    "# Get scores of each feature\n",
    "\n",
    "feat_vec = np.array(list(feat_vec))\n",
    "filtered_feat_vec = np.apply_along_axis(filter_vec, 1, feat_vec, non_0_filter)\n",
    "supp_7_df[\"exp_score\"] = np.apply_along_axis(get_sgRNA_scores, 1, filtered_feat_vec, LR_clf.intercept_, LR_clf.coef_[0])"
   ]
  },
  {
   "cell_type": "code",
   "execution_count": 18,
   "metadata": {
    "scrolled": false
   },
   "outputs": [],
   "source": [
    "# Sort df by exp score\n",
    "\n",
    "Doench_rank = supp_7_df.sort_values(by=\"Gene % Rank\", ascending=False, inplace=False)\n",
    "CROPSR_rank = supp_7_df.sort_values(by=\"exp_score\", ascending=False, inplace=False)\n",
    "\n",
    "#Doench_rank.to_csv(\"/Users/daveistanto/Dropbox/UIUCGraduateSchool/Researches/CROPSR/data_files/doench_ranked.csv\", index=False)\n",
    "#CROPSR_rank.to_csv(\"/Users/daveistanto/Dropbox/UIUCGraduateSchool/Researches/CROPSR/data_files/CROPSR_ranked.csv\", index=False)"
   ]
  },
  {
   "cell_type": "code",
   "execution_count": 19,
   "metadata": {},
   "outputs": [
    {
     "name": "stdout",
     "output_type": "stream",
     "text": [
      "Correlation coefficient:  0.4724535626309528\n",
      "Correlation coefficient:  0.5379907580176214\n"
     ]
    },
    {
     "data": {
      "image/png": "[encoded data removed]",
      "text/plain": [
       "<Figure size 432x288 with 1 Axes>"
      ]
     },
     "metadata": {
      "needs_background": "light"
     },
     "output_type": "display_data"
    },
    {
     "data": {
      "image/png": "[encoded data removed]",
      "text/plain": [
       "<Figure size 432x288 with 1 Axes>"
      ]
     },
     "metadata": {
      "needs_background": "light"
     },
     "output_type": "display_data"
    }
   ],
   "source": [
    "# Scatter plot sgRNA vs Doench Gene rank\n",
    "\n",
    "import matplotlib.pyplot as plt\n",
    "from scipy.stats.stats import pearsonr\n",
    "\n",
    "plt.figure(1)\n",
    "plt.scatter(Doench_rank[\"Gene % Rank\"].values, Doench_rank[\"sgRNA Score\"].values)\n",
    "plt.ylabel(\"Doench sgRNA Score \")\n",
    "plt.xlabel(\"Gene % Rank\")\n",
    "plt.title(\"Gene % Rank vs Doench sgRNA Score\")\n",
    "\n",
    "print(\"Correlation coefficient: \", pearsonr(Doench_rank[\"Gene % Rank\"].values, Doench_rank[\"sgRNA Score\"].values)[0])\n",
    "\n",
    "plt.figure(2)\n",
    "plt.scatter(CROPSR_rank[\"Gene % Rank\"].values, CROPSR_rank[\"exp_score\"].values)\n",
    "plt.ylabel(\"CROPSR sgRNA Score \")\n",
    "plt.xlabel(\"Gene % Rank\")\n",
    "plt.title(\"Gene % Rank vs CROPSR sgRNA Score\")\n",
    "\n",
    "print(\"Correlation coefficient: \", pearsonr(CROPSR_rank[\"Gene % Rank\"].values, CROPSR_rank[\"exp_score\"].values)[0])"
   ]
  },
  {
   "cell_type": "code",
   "execution_count": 19,
   "metadata": {},
   "outputs": [
    {
     "data": {
      "text/plain": [
       "LogisticRegression(C=1.0, class_weight=None, dual=False, fit_intercept=True,\n",
       "          intercept_scaling=1, max_iter=100, multi_class='warn',\n",
       "          n_jobs=None, penalty='l2', random_state=None, solver='warn',\n",
       "          tol=0.0001, verbose=0, warm_start=False)"
      ]
     },
     "execution_count": 19,
     "metadata": {},
     "output_type": "execute_result"
    }
   ],
   "source": [
    "# Logistic Regression only\n",
    "\n",
    "from sklearn.linear_model import LogisticRegression\n",
    "LR_only_clf = LogisticRegression()\n",
    "LR_only_clf.fit(vec_train, label_train)"
   ]
  },
  {
   "cell_type": "code",
   "execution_count": 20,
   "metadata": {
    "scrolled": true
   },
   "outputs": [
    {
     "name": "stdout",
     "output_type": "stream",
     "text": [
      "LR Only Training accuracy: 0.8980978260869565\n",
      "LR Only Test accuracy: 0.7154471544715447\n"
     ]
    }
   ],
   "source": [
    "# Logistic Regression only Accuracies\n",
    "\n",
    "from sklearn.metrics import accuracy_score\n",
    "\n",
    "pred_train_only_LR = LR_only_clf.predict(vec_train)\n",
    "pred_test_only_LR = LR_only_clf.predict(vec_test)\n",
    "\n",
    "print(\"LR Only Training accuracy:\", accuracy_score(pred_train_only_LR, label_train))\n",
    "print(\"LR Only Test accuracy:\", accuracy_score(pred_test_only_LR, label_test))"
   ]
  },
  {
   "cell_type": "code",
   "execution_count": 21,
   "metadata": {},
   "outputs": [],
   "source": [
    "# Linear neural network Classifier, ranked\n",
    "\n",
    "import torch\n",
    "from torch import nn\n",
    "\n",
    "p_threshold = 0.5\n",
    "class nnClassifier(nn.Module):\n",
    "    def __init__(self):\n",
    "        super(nnClassifier, self).__init__()\n",
    "        \n",
    "        self.lin_1 = nn.Linear(590, 300)\n",
    "        self.lin_2 = nn.Linear(300, 100)\n",
    "        self.lin_3 = nn.Linear(100, 10)\n",
    "        self.lin_4 = nn.Linear(10, 1)\n",
    "        \n",
    "        self.seq = nn.Sequential(\n",
    "            self.lin_1,\n",
    "            nn.ReLU(),\n",
    "            self.lin_2,\n",
    "            nn.ReLU(),\n",
    "            self.lin_3,\n",
    "            nn.ReLU(),\n",
    "            self.lin_4,\n",
    "            nn.Sigmoid()\n",
    "        )\n",
    "\n",
    "    def forward(self, x):\n",
    "        prob = self.seq(x.type(torch.FloatTensor))\n",
    "        label_tensor = prob > p_threshold\n",
    "     \n",
    "        return prob, label_tensor.type(torch.FloatTensor)\n",
    "        \n"
   ]
  },
  {
   "cell_type": "code",
   "execution_count": 22,
   "metadata": {},
   "outputs": [],
   "source": [
    "from torch.utils.data import Dataset, DataLoader\n",
    "# Data loaders, training and test loader\n",
    "\n",
    "class mouse_dataset(Dataset):\n",
    "    \n",
    "    # Initialize data\n",
    "    def __init__(self, input_x, input_y):\n",
    "        self.len = len(input_x)\n",
    "        self.x_data = torch.from_numpy(input_x)\n",
    "        self.y_data = torch.from_numpy(input_y)\n",
    "        \n",
    "    def __getitem__(self, index):\n",
    "        return self.x_data[index], self.y_data[index]\n",
    "    \n",
    "    def __len__(self):\n",
    "        return self.len\n",
    "    \n",
    "mouse_train_dataset = mouse_dataset(vec_train, label_train.astype(int))\n",
    "mouse_test_dataset = mouse_dataset(vec_test, label_test.astype(int))\n",
    "\n",
    "# mouse_train_filtered_dataset = mouse_dataset()\n"
   ]
  },
  {
   "cell_type": "code",
   "execution_count": 52,
   "metadata": {},
   "outputs": [],
   "source": [
    "# Code for training test nn\n",
    "\n",
    "import torch\n",
    "import torch.nn.functional as F\n",
    "\n",
    "def train_test_nn(model, train_loader, test_loader, loss_func, opt, epochs=10, writer=None):\n",
    "    \n",
    "#     Divide training data to batches:\n",
    "    \n",
    "\n",
    "    for epoch_index in range(epochs):\n",
    "        \n",
    "        # Train nn \n",
    "        train_epoch_total_loss = 0\n",
    "        train_epoch_total_acc = 0\n",
    "        train_total_batches = 0\n",
    "        \n",
    "        for i, data in enumerate(train_loader, 0):\n",
    "            \n",
    "            # Load data and forward\n",
    "            train_input, train_labels = data         \n",
    "            train_prob_good, train_pred_labels = model(train_input)\n",
    "\n",
    "            # Loss, back propagation\n",
    "            train_batch_loss = loss_func(train_prob_good, train_labels)\n",
    "            opt.zero_grad()\n",
    "            train_batch_loss.backward()\n",
    "            opt.step()\n",
    "            \n",
    "            # Metrics\n",
    "            train_epoch_total_loss += train_batch_loss.item()\n",
    "            train_epoch_total_acc += hybrid_get_accuracy(train_pred_labels, train_labels)\n",
    "            train_total_batches += 1\n",
    "                \n",
    "\n",
    "        # Test nn\n",
    "        test_epoch_total_loss = 0\n",
    "        test_epoch_total_acc = 0\n",
    "        test_total_batches = 0\n",
    "\n",
    "        for i, data in enumerate(test_loader, 0):\n",
    "\n",
    "            # Load data, forward\n",
    "            test_input, test_labels = data\n",
    "            test_prob_good, test_pred_labels = model(test_input)\n",
    "            \n",
    "            # Loss\n",
    "            test_batch_loss = loss_func(test_prob_good, test_labels)\n",
    "            \n",
    "            # Metrics\n",
    "            test_epoch_total_loss += test_batch_loss.item()\n",
    "            test_epoch_total_acc += hybrid_get_accuracy(test_pred_labels, test_labels)\n",
    "            test_total_batches += 1\n",
    "\n",
    "            \n",
    "        if epoch_index % 200 == 0 or epoch_index == epochs - 1:\n",
    "            print(\"Now at epoch\", epoch_index)\n",
    "#         if epoch_index % 50 == 0 or epoch_index == epochs - 1:\n",
    "#             print(\"Epoch\", epoch_index, \"Training Accuracy:\", train_epoch_total_acc / train_total_batches)\n",
    "#             print(\"Epoch\", epoch_index, \"Training Loss:\", train_epoch_total_loss / train_total_batches)\n",
    "#             print(\"Epoch\", epoch_index, \"Test Accuracy:\", test_epoch_total_acc / test_total_batches)\n",
    "#             print(\"Epoch\", epoch_index, \"Test Loss:\", test_epoch_total_loss / test_total_batches)\n",
    "#             # Get epoch average batch loss and accuracy\n",
    "#         writer.add_scalar(\"Epoch Training Batch Loss Average:\", train_epoch_total_loss / train_total_batches, epoch_index)\n",
    "#         writer.add_scalar(\"Epoch Training Batch Accuracy Average:\", train_epoch_total_acc / train_total_batches, epoch_index)\n",
    "#         writer.add_scalar(\"Epoch Test Batch Loss Average:\", test_epoch_total_loss / test_total_batches, epoch_index)\n",
    "#         writer.add_scalar(\"Epoch Test Batch Accuracy Average:\", test_epoch_total_acc / test_total_batches, epoch_index)     \n",
    "         \n",
    "    return (test_epoch_total_acc / test_total_batches)\n",
    "            \n",
    "\n",
    "\n",
    "    "
   ]
  },
  {
   "cell_type": "code",
   "execution_count": 50,
   "metadata": {},
   "outputs": [],
   "source": [
    "# new get accuracy function\n",
    "\n",
    "def hybrid_get_accuracy(pred_label, actual_label):\n",
    "    pred_label = pred_label.view(pred_label.size()[0]).type(torch.LongTensor)\n",
    "\n",
    "    eq_tensor = (actual_label == pred_label)\n",
    "    \n",
    "    acc = torch.sum(eq_tensor).item()/ eq_tensor.size()[0]\n",
    "    \n",
    "    return acc"
   ]
  },
  {
   "cell_type": "code",
   "execution_count": 25,
   "metadata": {},
   "outputs": [],
   "source": [
    "# 2-Class classification Helper function\n",
    "def class_get_accuracy(model_output_tensor, actual_value_tensor):\n",
    "    # Get the node / torch with largest value, multiple tensors at once,\n",
    "    # torch.max returns (max_value, index_of_max_value)\n",
    "    max_val_indices = torch.max(model_output_tensor, dim = 1)[1]\n",
    "    \n",
    "    # Get the number of rights, item() is to extract scalar from 1D tensor with 1 Element\n",
    "    right_count = torch.sum(torch.eq(max_val_indices, actual_value_tensor)).item()\n",
    "    \n",
    "    # Get accuracy by dividing by length of each tensor\n",
    "    batch_size = max_val_indices.size()[0]\n",
    "    acc = right_count / batch_size\n",
    "    return acc\n"
   ]
  },
  {
   "cell_type": "code",
   "execution_count": 26,
   "metadata": {},
   "outputs": [],
   "source": [
    "# Logistic regression loss helper\n",
    "import torch\n",
    "def get_logreg(pred, target):\n",
    "\n",
    "    pred = pred.view(pred.size()[0])\n",
    "    target = target.type(torch.FloatTensor)\n",
    "    loss = torch.mul(target, torch.mul(-1, torch.log(pred))) + torch.mul(1 - target, torch.mul(-1, torch.log(1 - pred)))\n",
    "\n",
    "    mean_loss = torch.mean(loss)\n",
    "    \n",
    "    return mean_loss"
   ]
  },
  {
   "cell_type": "code",
   "execution_count": 265,
   "metadata": {
    "scrolled": true
   },
   "outputs": [
    {
     "name": "stdout",
     "output_type": "stream",
     "text": [
      "Epoch 0 Training Accuracy: 0.6039402173913043\n",
      "Epoch 0 Training Loss: 0.6814770452354265\n",
      "Epoch 0 Test Accuracy: 0.5684742647058824\n",
      "Epoch 0 Test Loss: 0.6834214727083842\n",
      "Epoch 50 Training Accuracy: 0.6086956521739131\n",
      "Epoch 50 Training Loss: 0.6663985731809036\n",
      "Epoch 50 Test Accuracy: 0.5730698529411765\n",
      "Epoch 50 Test Loss: 0.6831657638152441\n",
      "Epoch 100 Training Accuracy: 0.6086956521739131\n",
      "Epoch 100 Training Loss: 0.665088898461798\n",
      "Epoch 100 Test Accuracy: 0.5776654411764706\n",
      "Epoch 100 Test Loss: 0.6799903512001038\n",
      "Epoch 150 Training Accuracy: 0.6086956521739131\n",
      "Epoch 150 Training Loss: 0.6630852261315221\n",
      "Epoch 150 Test Accuracy: 0.5868566176470588\n",
      "Epoch 150 Test Loss: 0.6739490528901418\n",
      "Epoch 200 Training Accuracy: 0.6086956521739131\n",
      "Epoch 200 Training Loss: 0.6602168692194897\n",
      "Epoch 200 Test Accuracy: 0.5776654411764706\n",
      "Epoch 200 Test Loss: 0.6752938578526179\n",
      "Epoch 250 Training Accuracy: 0.6086956521739131\n",
      "Epoch 250 Training Loss: 0.6560253578683605\n",
      "Epoch 250 Test Accuracy: 0.5799632352941176\n",
      "Epoch 250 Test Loss: 0.6722574929396311\n",
      "Epoch 300 Training Accuracy: 0.6120923913043478\n",
      "Epoch 300 Training Loss: 0.6493112069109211\n",
      "Epoch 300 Test Accuracy: 0.5684742647058824\n",
      "Epoch 300 Test Loss: 0.6756414522727331\n",
      "Epoch 350 Training Accuracy: 0.6324728260869565\n",
      "Epoch 350 Training Loss: 0.6380039673784504\n",
      "Epoch 350 Test Accuracy: 0.5978860294117647\n",
      "Epoch 350 Test Loss: 0.6570389618476232\n",
      "Epoch 400 Training Accuracy: 0.6494565217391305\n",
      "Epoch 400 Training Loss: 0.6211649011010709\n",
      "Epoch 400 Test Accuracy: 0.6277573529411765\n",
      "Epoch 400 Test Loss: 0.6507218579451243\n",
      "Epoch 450 Training Accuracy: 0.6752717391304348\n",
      "Epoch 450 Training Loss: 0.595769606206728\n",
      "Epoch 450 Test Accuracy: 0.6011029411764706\n",
      "Epoch 450 Test Loss: 0.6586990257104238\n",
      "Epoch 500 Training Accuracy: 0.7051630434782609\n",
      "Epoch 500 Training Loss: 0.568278634029886\n",
      "Epoch 500 Test Accuracy: 0.5785845588235294\n",
      "Epoch 500 Test Loss: 0.7527836759885153\n",
      "Epoch 550 Training Accuracy: 0.7139945652173914\n",
      "Epoch 550 Training Loss: 0.5441910255214443\n",
      "Epoch 550 Test Accuracy: 0.6098345588235294\n",
      "Epoch 550 Test Loss: 0.6642441054185232\n",
      "Epoch 600 Training Accuracy: 0.735733695652174\n",
      "Epoch 600 Training Loss: 0.5403922997091127\n",
      "Epoch 600 Test Accuracy: 0.6832107843137255\n",
      "Epoch 600 Test Loss: 0.5925462990999222\n",
      "Epoch 650 Training Accuracy: 0.7126358695652174\n",
      "Epoch 650 Training Loss: 0.5569256433974141\n",
      "Epoch 650 Test Accuracy: 0.6652879901960784\n",
      "Epoch 650 Test Loss: 0.6046949848532677\n",
      "Epoch 700 Training Accuracy: 0.7364130434782609\n",
      "Epoch 700 Training Loss: 0.5238058120012283\n",
      "Epoch 700 Test Accuracy: 0.6711090686274509\n",
      "Epoch 700 Test Loss: 0.6113680849472681\n",
      "Epoch 750 Training Accuracy: 0.734375\n",
      "Epoch 750 Training Loss: 0.5406955286212589\n",
      "Epoch 750 Test Accuracy: 0.6603860294117647\n",
      "Epoch 750 Test Loss: 0.6125936110814413\n",
      "Epoch 800 Training Accuracy: 0.7370923913043478\n",
      "Epoch 800 Training Loss: 0.5344114355418993\n",
      "Epoch 800 Test Accuracy: 0.6806066176470589\n",
      "Epoch 800 Test Loss: 0.6018331348896027\n",
      "Epoch 849 Training Accuracy: 0.7323369565217391\n",
      "Epoch 849 Training Loss: 0.5315628103587938\n",
      "Epoch 849 Test Accuracy: 0.6731004901960785\n",
      "Epoch 849 Test Loss: 0.6016838898261389\n"
     ]
    }
   ],
   "source": [
    "# Train model\n",
    "from torch import optim\n",
    "from tensorboardX import SummaryWriter\n",
    "\n",
    "model = nnClassifier()\n",
    "mouse_train_loader = DataLoader(dataset=mouse_train_dataset, batch_size = 32, shuffle = True, num_workers = 2)\n",
    "mouse_test_loader = DataLoader(dataset=mouse_test_dataset, batch_size = 32, shuffle = True, num_workers = 2)\n",
    "#loss_1 = nn.CrossEntropyLoss()\n",
    "loss_1 = get_logreg\n",
    "optimizer = optim.SGD(model.parameters(), lr = 0.001, weight_decay=0.0001)\n",
    "writer = SummaryWriter()\n",
    "\n",
    "\n",
    "train_test_nn(model, mouse_train_loader, mouse_test_loader, loss_1, optimizer, epochs=850, writer=writer)"
   ]
  },
  {
   "cell_type": "code",
   "execution_count": 55,
   "metadata": {},
   "outputs": [
    {
     "name": "stdout",
     "output_type": "stream",
     "text": [
      "Currently in iteration: 0\n",
      "Now starting 1\n",
      "SVM LR accuracy: 0.7127371273712737\n",
      "Now starting 2\n",
      "LR only accuracy: 0.7154471544715447\n",
      "Now starting 3\n",
      "Now at epoch 0\n",
      "Now at epoch 200\n",
      "Now at epoch 400\n",
      "Now at epoch 600\n",
      "Now at epoch 800\n",
      "Now at epoch 849\n",
      "NN only accuracy: 0.7486213235294118\n",
      "Currently in iteration: 1\n",
      "Now starting 1\n",
      "SVM LR accuracy: 0.7100271002710027\n",
      "Now starting 2\n",
      "LR only accuracy: 0.7154471544715447\n",
      "Now starting 3\n",
      "Now at epoch 0\n",
      "Now at epoch 200\n",
      "Now at epoch 400\n",
      "Now at epoch 600\n",
      "Now at epoch 800\n",
      "Now at epoch 849\n",
      "NN only accuracy: 0.7743566176470589\n",
      "Currently in iteration: 2\n",
      "Now starting 1\n",
      "SVM LR accuracy: 0.7127371273712737\n",
      "Now starting 2\n",
      "LR only accuracy: 0.7154471544715447\n",
      "Now starting 3\n",
      "Now at epoch 0\n",
      "Now at epoch 200\n",
      "Now at epoch 400\n",
      "Now at epoch 600\n",
      "Now at epoch 800\n",
      "Now at epoch 849\n",
      "NN only accuracy: 0.7648590686274509\n",
      "Currently in iteration: 3\n",
      "Now starting 1\n",
      "SVM LR accuracy: 0.7181571815718157\n",
      "Now starting 2\n",
      "LR only accuracy: 0.7154471544715447\n",
      "Now starting 3\n",
      "Now at epoch 0\n",
      "Now at epoch 200\n",
      "Now at epoch 400\n",
      "Now at epoch 600\n",
      "Now at epoch 800\n",
      "Now at epoch 849\n",
      "NN only accuracy: 0.7714460784313726\n",
      "Currently in iteration: 4\n",
      "Now starting 1\n",
      "SVM LR accuracy: 0.7154471544715447\n",
      "Now starting 2\n",
      "LR only accuracy: 0.7154471544715447\n",
      "Now starting 3\n",
      "Now at epoch 0\n",
      "Now at epoch 200\n",
      "Now at epoch 400\n",
      "Now at epoch 600\n",
      "Now at epoch 800\n",
      "Now at epoch 849\n",
      "NN only accuracy: 0.767156862745098\n",
      "Currently in iteration: 5\n",
      "Now starting 1\n",
      "SVM LR accuracy: 0.7181571815718157\n",
      "Now starting 2\n",
      "LR only accuracy: 0.7154471544715447\n",
      "Now starting 3\n",
      "Now at epoch 0\n",
      "Now at epoch 200\n",
      "Now at epoch 400\n",
      "Now at epoch 600\n",
      "Now at epoch 800\n",
      "Now at epoch 849\n",
      "NN only accuracy: 0.7789522058823529\n",
      "Currently in iteration: 6\n",
      "Now starting 1\n",
      "SVM LR accuracy: 0.7208672086720868\n",
      "Now starting 2\n",
      "LR only accuracy: 0.7154471544715447\n",
      "Now starting 3\n",
      "Now at epoch 0\n",
      "Now at epoch 200\n",
      "Now at epoch 400\n",
      "Now at epoch 600\n",
      "Now at epoch 800\n",
      "Now at epoch 849\n",
      "NN only accuracy: 0.7763480392156863\n",
      "Currently in iteration: 7\n",
      "Now starting 1\n",
      "SVM LR accuracy: 0.7073170731707317\n",
      "Now starting 2\n",
      "LR only accuracy: 0.7154471544715447\n",
      "Now starting 3\n",
      "Now at epoch 0\n",
      "Now at epoch 200\n",
      "Now at epoch 400\n",
      "Now at epoch 600\n",
      "Now at epoch 800\n",
      "Now at epoch 849\n",
      "NN only accuracy: 0.7717524509803922\n",
      "Currently in iteration: 8\n",
      "Now starting 1\n",
      "SVM LR accuracy: 0.7181571815718157\n",
      "Now starting 2\n",
      "LR only accuracy: 0.7154471544715447\n",
      "Now starting 3\n",
      "Now at epoch 0\n",
      "Now at epoch 200\n",
      "Now at epoch 400\n",
      "Now at epoch 600\n",
      "Now at epoch 800\n",
      "Now at epoch 849\n",
      "NN only accuracy: 0.7743566176470589\n",
      "Currently in iteration: 9\n",
      "Now starting 1\n",
      "SVM LR accuracy: 0.7073170731707317\n",
      "Now starting 2\n",
      "LR only accuracy: 0.7154471544715447\n",
      "Now starting 3\n",
      "Now at epoch 0\n",
      "Now at epoch 200\n",
      "Now at epoch 400\n",
      "Now at epoch 600\n",
      "Now at epoch 800\n",
      "Now at epoch 849\n",
      "NN only accuracy: 0.7674632352941176\n"
     ]
    }
   ],
   "source": [
    "from sklearn.metrics import accuracy_score\n",
    "from sklearn.model_selection import train_test_split \n",
    "import numpy as np\n",
    "from torch import optim\n",
    "# Statistical Tests on Test Accuracy\n",
    "\n",
    "N = 10\n",
    "SVM_LR = np.array([])\n",
    "LR_only = np.array([])\n",
    "NN_only = np.array([])\n",
    "\n",
    "for i in range(N):\n",
    "    \n",
    "    print(\"Currently in iteration:\", i)\n",
    "    # Shuffle test and training sets\n",
    "    \n",
    "    vec_train, vec_test, label_train, label_test = train_test_split(feat_vec, supp_7_df[\"Top 20%\"], test_size=0.2, random_state=0)\n",
    "    # Convert nested np.array to 2d np.array\n",
    "    vec_train = np.array(list(vec_train))\n",
    "    vec_test = np.array(list(vec_test))\n",
    "\n",
    "    print(\"Now starting 1\")\n",
    "    # 1. SVM -> Logistic Regression\n",
    "    SVM_clf.fit(vec_train, label_train)\n",
    "    \n",
    "    # Filter for non-0 weights, and only use corresponding features\n",
    "    non_0_filter = (SVM_clf.coef_ != 0)\n",
    "    non_0_weights = SVM_clf.coef_[non_0_filter]\n",
    "    filtered_vec_train = np.apply_along_axis(filter_vec, 1, vec_train, non_0_filter)\n",
    "    filtered_vec_test = np.apply_along_axis(filter_vec, 1, vec_test, non_0_filter)\n",
    "    \n",
    "    # Logistic Regression using filtered weights\n",
    "    from sklearn.linear_model import LogisticRegression\n",
    "    LR_clf = LogisticRegression()\n",
    "    LR_clf.fit(filtered_vec_train, label_train)\n",
    "    pred_test_LR = LR_clf.predict(filtered_vec_test)\n",
    "    SVM_LR_acc = accuracy_score(pred_test_LR, label_test)\n",
    "    print(\"SVM LR accuracy:\", SVM_LR_acc)\n",
    "    \n",
    "    print(\"Now starting 2\")\n",
    "    # 2. LR Only\n",
    "    LR_only_clf = LogisticRegression()\n",
    "    LR_only_clf.fit(vec_train, label_train)\n",
    "    pred_test_only_LR = LR_only_clf.predict(vec_test)\n",
    "    LR_only_acc = accuracy_score(pred_test_only_LR, label_test)\n",
    "    print(\"LR only accuracy:\", LR_only_acc)\n",
    "    \n",
    "    print(\"Now starting 3\")\n",
    "    # 3. NN Only\n",
    "    model = nnClassifier()\n",
    "    mouse_train_loader = DataLoader(dataset=mouse_train_dataset, batch_size = 32, shuffle = True, num_workers = 2)\n",
    "    mouse_test_loader = DataLoader(dataset=mouse_test_dataset, batch_size = 32, shuffle = True, num_workers = 2)\n",
    "    #loss_1 = nn.CrossEntropyLoss()\n",
    "    loss_1 = get_logreg\n",
    "    optimizer = optim.SGD(model.parameters(), lr = 0.001, weight_decay=0.0001)\n",
    "    NN_acc = train_test_nn(model, mouse_train_loader, mouse_test_loader, loss_1, optimizer, epochs=850)\n",
    "    print(\"NN only accuracy:\", NN_acc)\n",
    "    \n",
    "    # Append each accuracy to the np.array\n",
    "    SVM_LR = np.append(SVM_LR, SVM_LR_acc)\n",
    "    LR_only = np.append(LR_only, LR_only_acc)\n",
    "    NN_only = np.append(NN_only, NN_acc)\n",
    "    \n",
    "    "
   ]
  },
  {
   "cell_type": "code",
   "execution_count": 56,
   "metadata": {},
   "outputs": [
    {
     "name": "stdout",
     "output_type": "stream",
     "text": [
      "[0.71273713 0.7100271  0.71273713 0.71815718 0.71544715 0.71815718\n",
      " 0.72086721 0.70731707 0.71815718 0.70731707]\n",
      "[0.71544715 0.71544715 0.71544715 0.71544715 0.71544715 0.71544715\n",
      " 0.71544715 0.71544715 0.71544715 0.71544715]\n",
      "[0.74862132 0.77435662 0.76485907 0.77144608 0.76715686 0.77895221\n",
      " 0.77634804 0.77175245 0.77435662 0.76746324]\n"
     ]
    }
   ],
   "source": [
    "print(SVM_LR)\n",
    "print(LR_only)\n",
    "print(NN_only)"
   ]
  }
 ],
 "metadata": {
  "kernelspec": {
   "display_name": "Python 3",
   "language": "python",
   "name": "python3"
  },
  "language_info": {
   "codemirror_mode": {
    "name": "ipython",
    "version": 3
   },
   "file_extension": ".py",
   "mimetype": "text/x-python",
   "name": "python",
   "nbconvert_exporter": "python",
   "pygments_lexer": "ipython3",
   "version": "3.7.0"
  }
 },
 "nbformat": 4,
 "nbformat_minor": 2
}
