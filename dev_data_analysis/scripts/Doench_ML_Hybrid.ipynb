{
 "cells": [
  {
   "cell_type": "code",
   "execution_count": 1,
   "metadata": {},
   "outputs": [],
   "source": [
    "# Machine learning pipeline for Doench Data, supplementary table 7\n",
    "import pandas as pd\n",
    "\n",
    "supp_7_path = \"/Users/daveistanto/Dropbox/UIUCGraduateSchool/Researches/CROPSR_head_dir/data_files/supp_table_7.csv\"\n",
    "supp_7_df = pd.read_csv(supp_7_path)"
   ]
  },
  {
   "cell_type": "code",
   "execution_count": 2,
   "metadata": {},
   "outputs": [],
   "source": [
    "# # Sort based on Gene % Rank but group by Gene\n",
    "import warnings\n",
    "warnings.filterwarnings('ignore')\n",
    "unique_gene_list = list(set(supp_7_df[\"Gene\"]))\n",
    "\n",
    "supp_7_df[\"Top 20%\"] = False\n",
    "\n",
    "for gene in unique_gene_list:\n",
    "    supp_7_df_temp = supp_7_df[supp_7_df[\"Gene\"] == gene]\n",
    "    supp_7_df_temp[\"Top 20%\"][0:int(len(supp_7_df_temp)*0.2)] = True\n",
    "    supp_7_df[supp_7_df[\"Gene\"] == gene] = supp_7_df_temp\n",
    "    "
   ]
  },
  {
   "cell_type": "code",
   "execution_count": 3,
   "metadata": {},
   "outputs": [
    {
     "name": "stdout",
     "output_type": "stream",
     "text": [
      "Index(['Sequence', 'Expanded Sequence', 'Position', 'Type', 'Gene',\n",
      "       'Transcript', 'Strand', 'Gene % Rank', 'sgRNA Score', 'Top 20%'],\n",
      "      dtype='object')\n"
     ]
    }
   ],
   "source": [
    "# Extract features\n",
    "\n",
    "import Feature_Extraction as fe\n",
    "\n",
    "feat_vec = supp_7_df[\"Expanded Sequence\"].apply(fe.ext_sgRNA_feat)\n",
    "\n",
    "print(supp_7_df.columns)"
   ]
  },
  {
   "cell_type": "code",
   "execution_count": 4,
   "metadata": {},
   "outputs": [],
   "source": [
    "# Split dataset to 80% Training 20% Test\n",
    "from sklearn.model_selection import train_test_split \n",
    "import numpy as np\n",
    "\n",
    "vec_train, vec_test, label_train, label_test = train_test_split(feat_vec.values, supp_7_df[\"Top 20%\"].values, test_size=0.2, random_state=0)\n",
    "# Convert nested np.array to 2d np.array\n",
    "vec_train = np.array(list(vec_train))\n",
    "vec_test = np.array(list(vec_test))"
   ]
  },
  {
   "cell_type": "code",
   "execution_count": 13,
   "metadata": {},
   "outputs": [
    {
     "name": "stdout",
     "output_type": "stream",
     "text": [
      "Original # of coefficient: 590\n",
      "Non 0 # of coefficient 303\n"
     ]
    }
   ],
   "source": [
    "# Eliminate most features: SVM with L-1 regularization constant\n",
    "\n",
    "from sklearn.svm import LinearSVC\n",
    "\n",
    "SVM_clf = LinearSVC(penalty='l1', loss='squared_hinge', dual=False)\n",
    "SVM_clf.fit(vec_train, label_train)\n",
    "\n",
    "# Function for filtering, make vectorized version\n",
    "\n",
    "def filter_vec(input_vec, filter_bool):\n",
    "    return input_vec[filter_bool[0]]\n",
    "\n",
    "# Filter for non-0 weights, and only use corresponding features\n",
    "\n",
    "non_0_filter = (SVM_clf.coef_ != 0)\n",
    "non_0_weights = SVM_clf.coef_[non_0_filter]\n",
    "filtered_vec_train = np.apply_along_axis(filter_vec, 1, vec_train, non_0_filter)\n",
    "filtered_vec_test = np.apply_along_axis(filter_vec, 1, vec_test, non_0_filter)\n",
    "\n",
    "print(\"Original # of coefficient:\", len(SVM_clf.coef_[0]))\n",
    "print(\"Non 0 # of coefficient\", len(non_0_weights))"
   ]
  },
  {
   "cell_type": "code",
   "execution_count": 14,
   "metadata": {},
   "outputs": [],
   "source": [
    "# Linear neural network Classifier, ranked\n",
    "\n",
    "import torch\n",
    "from torch import nn\n",
    "\n",
    "prob_treshold = 0.7\n",
    "class nnClassifier(nn.Module):\n",
    "    def __init__(self):\n",
    "        super(nnClassifier, self).__init__()\n",
    "        \n",
    "        self.lin_1 = nn.Linear(590, 300)\n",
    "        self.lin_2 = nn.Linear(300, 100)\n",
    "        self.lin_3 = nn.Linear(100, 10)\n",
    "        self.lin_4 = nn.Linear(10, 1)\n",
    "        \n",
    "        self.seq = nn.Sequential(\n",
    "            self.lin_1,\n",
    "            nn.ReLU(),\n",
    "            self.lin_2,\n",
    "            nn.ReLU(),\n",
    "            self.lin_3,\n",
    "            nn.ReLU(),\n",
    "            self.lin_4,\n",
    "            nn.Sigmoid()\n",
    "        )\n",
    "\n",
    "    def forward(self, x):\n",
    "#         print(x.type(torch.FloatTensor))\n",
    "        x = self.seq(x)\n",
    "#         label = \n",
    "#         print(x)\n",
    "#         if x >= 0.7:\n",
    "            \n",
    "        \n",
    "        return x"
   ]
  },
  {
   "cell_type": "code",
   "execution_count": 21,
   "metadata": {},
   "outputs": [
    {
     "name": "stdout",
     "output_type": "stream",
     "text": [
      "tensor([[0, 0, 0],\n",
      "        [1, 1, 1]], dtype=torch.uint8)\n"
     ]
    }
   ],
   "source": [
    "x = torch.tensor([[1, 2, 3], [4, 5, 6]])\n",
    "print (x > 3)\n",
    "    "
   ]
  }
 ],
 "metadata": {
  "kernelspec": {
   "display_name": "Python 3",
   "language": "python",
   "name": "python3"
  },
  "language_info": {
   "codemirror_mode": {
    "name": "ipython",
    "version": 3
   },
   "file_extension": ".py",
   "mimetype": "text/x-python",
   "name": "python",
   "nbconvert_exporter": "python",
   "pygments_lexer": "ipython3",
   "version": "3.7.0"
  }
 },
 "nbformat": 4,
 "nbformat_minor": 2
}
